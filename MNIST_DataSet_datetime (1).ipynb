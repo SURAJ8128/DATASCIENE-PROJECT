{
  "nbformat": 4,
  "nbformat_minor": 0,
  "metadata": {
    "colab": {
      "private_outputs": true,
      "provenance": []
    },
    "kernelspec": {
      "name": "python3",
      "display_name": "Python 3"
    },
    "language_info": {
      "name": "python"
    }
  },
  "cells": [
    {
      "cell_type": "code",
      "execution_count": null,
      "metadata": {
        "id": "8YKhlNQPvs59"
      },
      "outputs": [],
      "source": [
        "import pandas as pd\n",
        "import numpy as np\n",
        "import seaborn as sns\n",
        "import matplotlib.pyplot as plt"
      ]
    },
    {
      "cell_type": "code",
      "source": [
        "import tensorflow\n",
        "from tensorflow import keras\n",
        "from tensorflow.keras import Sequential\n",
        "from tensorflow.keras.layers import Dense,Flatten\n"
      ],
      "metadata": {
        "id": "GzFfgjhawdnm"
      },
      "execution_count": null,
      "outputs": []
    },
    {
      "cell_type": "code",
      "source": [
        "(x_train,y_train),(x_test,y_test)=keras.datasets.mnist.load_data()"
      ],
      "metadata": {
        "id": "PG5IsFRKxPSb"
      },
      "execution_count": null,
      "outputs": []
    },
    {
      "cell_type": "code",
      "source": [
        "y_train.shape"
      ],
      "metadata": {
        "id": "i9t5Nzhas4nG"
      },
      "execution_count": null,
      "outputs": []
    },
    {
      "cell_type": "code",
      "source": [
        "x_test.shape"
      ],
      "metadata": {
        "id": "DHiXxFZDxfz4"
      },
      "execution_count": null,
      "outputs": []
    },
    {
      "cell_type": "code",
      "source": [
        "y_test.shape"
      ],
      "metadata": {
        "id": "NVegByXlty8G"
      },
      "execution_count": null,
      "outputs": []
    },
    {
      "cell_type": "code",
      "source": [
        "x_train.shape"
      ],
      "metadata": {
        "id": "1apnWwnaxmUp"
      },
      "execution_count": null,
      "outputs": []
    },
    {
      "cell_type": "code",
      "source": [
        "def plot_images(nrows, ncols):\n",
        "  plt.figure(figsize=[12,6])\n",
        "  for i in range(1,nrows*ncols+1):\n",
        "    plt.subplot(nrows, ncols, i)\n",
        "    k=np.random.randint(60000)\n",
        "    plt.imshow(x_train[k], cmap=\"gray\")\n",
        "    plt.title(f':{y_train[k]}',fontsize='small')\n",
        "    plt.axis('off')\n",
        "    # Now that the subplot is created, you'll need to add some content.\n",
        "    # Example: Plot an image from your data X (You might need to modify based on the dimensions of your image data)\n",
        "    #plt.imshow(X[i], cmap=\"gray\")\n",
        "  plt.show()\n",
        "\n",
        "plot_images(3, 6)"
      ],
      "metadata": {
        "id": "dVx5C1u8t3rd"
      },
      "execution_count": null,
      "outputs": []
    },
    {
      "cell_type": "code",
      "source": [
        "x_train[0]"
      ],
      "metadata": {
        "id": "vzPh6IzKxptK"
      },
      "execution_count": null,
      "outputs": []
    },
    {
      "cell_type": "code",
      "source": [
        "y_train #labels data"
      ],
      "metadata": {
        "id": "arlvhAoix1HT"
      },
      "execution_count": null,
      "outputs": []
    },
    {
      "cell_type": "code",
      "source": [
        "from keras.utils import to_categorical"
      ],
      "metadata": {
        "id": "DmOboXacvBCF"
      },
      "execution_count": null,
      "outputs": []
    },
    {
      "cell_type": "code",
      "source": [
        "pd.get_dummies(y_train)"
      ],
      "metadata": {
        "id": "sJVjTeEavGbM"
      },
      "execution_count": null,
      "outputs": []
    },
    {
      "cell_type": "code",
      "source": [
        "pd.get_dummies(y_train,dtype='int32')"
      ],
      "metadata": {
        "id": "HoaNDUekvRGG"
      },
      "execution_count": null,
      "outputs": []
    },
    {
      "cell_type": "code",
      "source": [
        "to_categorical(y_test)"
      ],
      "metadata": {
        "id": "4IHgP5Yrvass"
      },
      "execution_count": null,
      "outputs": []
    },
    {
      "cell_type": "code",
      "source": [
        "y_train=to_categorical(y_train)\n",
        "y_test=to_categorical(y_test)"
      ],
      "metadata": {
        "id": "PSvvUg1avgsX"
      },
      "execution_count": null,
      "outputs": []
    },
    {
      "cell_type": "code",
      "source": [
        "type(x_train)"
      ],
      "metadata": {
        "id": "25Y6JxNMvhAa"
      },
      "execution_count": null,
      "outputs": []
    },
    {
      "cell_type": "code",
      "source": [
        "type(y_train)"
      ],
      "metadata": {
        "id": "ylImr7gtvxYv"
      },
      "execution_count": null,
      "outputs": []
    },
    {
      "cell_type": "code",
      "source": [
        "from keras.models import Sequential\n",
        "from keras.layers import Dense,Flatten,Activation"
      ],
      "metadata": {
        "id": "xkBvedfXv0-f"
      },
      "execution_count": null,
      "outputs": []
    },
    {
      "cell_type": "code",
      "source": [
        "from sklearn.metrics import ConfusionMatrixDisplay"
      ],
      "metadata": {
        "id": "O-8VBNofwMaL"
      },
      "execution_count": null,
      "outputs": []
    },
    {
      "cell_type": "code",
      "source": [
        "model=Sequential()\n",
        "\n",
        "model.add(Flatten(input_shape=(28,28)))\n",
        "model.add(Dense(units=10))\n",
        "model.add(Activation('relu'))\n",
        "model.add(Dense(units=10))\n",
        "model.add(Activation('softmax'))"
      ],
      "metadata": {
        "id": "FfXGRrB8y5Dc"
      },
      "execution_count": null,
      "outputs": []
    },
    {
      "cell_type": "code",
      "source": [
        "model.summary()"
      ],
      "metadata": {
        "id": "784EvUWnzdPV"
      },
      "execution_count": null,
      "outputs": []
    },
    {
      "cell_type": "code",
      "source": [
        "from datetime import datetime"
      ],
      "metadata": {
        "id": "GZIayDJmxS09"
      },
      "execution_count": null,
      "outputs": []
    },
    {
      "cell_type": "code",
      "source": [
        "start_time=datetime.now()"
      ],
      "metadata": {
        "id": "ztWDo1LjxcC3"
      },
      "execution_count": null,
      "outputs": []
    },
    {
      "cell_type": "code",
      "source": [
        "start_time"
      ],
      "metadata": {
        "id": "LSCU9U2GxcPa"
      },
      "execution_count": null,
      "outputs": []
    },
    {
      "source": [
        "model.compile(loss='categorical_crossentropy', optimizer='Adam', metrics=['accuracy'])"
      ],
      "cell_type": "code",
      "metadata": {
        "id": "614oh3zq0OkB"
      },
      "execution_count": null,
      "outputs": []
    },
    {
      "cell_type": "code",
      "source": [
        "model.fit(x_train,y_train,epochs=20,validation_split=0.25)"
      ],
      "metadata": {
        "id": "EiP8nUmfxZES"
      },
      "execution_count": null,
      "outputs": []
    },
    {
      "cell_type": "code",
      "source": [
        "end_time=datetime.now()"
      ],
      "metadata": {
        "id": "t7RXEiO50ldd"
      },
      "execution_count": null,
      "outputs": []
    },
    {
      "cell_type": "code",
      "source": [
        "print(\"totalduration\",end_time-start_time)"
      ],
      "metadata": {
        "id": "lNV7NtNM0lup"
      },
      "execution_count": null,
      "outputs": []
    },
    {
      "cell_type": "code",
      "source": [
        "model.evaluate(x_test,y_test)"
      ],
      "metadata": {
        "id": "2HxZ_veQowBj"
      },
      "execution_count": null,
      "outputs": []
    },
    {
      "cell_type": "code",
      "source": [
        "y_predict=model.predict(x_test)"
      ],
      "metadata": {
        "id": "7i0vF-DrowNi"
      },
      "execution_count": null,
      "outputs": []
    },
    {
      "cell_type": "code",
      "source": [
        "y_predict"
      ],
      "metadata": {
        "id": "L3zsjiyi1o0s"
      },
      "execution_count": null,
      "outputs": []
    },
    {
      "cell_type": "code",
      "source": [
        "y_predict=np.array([np.argmax(i) for i in y_predict])"
      ],
      "metadata": {
        "id": "gaF3os991q7X"
      },
      "execution_count": null,
      "outputs": []
    },
    {
      "cell_type": "code",
      "source": [
        "y_predict"
      ],
      "metadata": {
        "id": "4-ygWQ5j12xp"
      },
      "execution_count": null,
      "outputs": []
    },
    {
      "cell_type": "code",
      "source": [
        "y_true=np.array([np.argmax(i) for i in y_test])\n",
        "y_true"
      ],
      "metadata": {
        "id": "rX4ifqUu2TR0"
      },
      "execution_count": null,
      "outputs": []
    },
    {
      "cell_type": "code",
      "source": [
        "ConfusionMatrixDisplay.from_predictions(y_true,y_predict)"
      ],
      "metadata": {
        "id": "FYJaqreN14bP"
      },
      "execution_count": null,
      "outputs": []
    },
    {
      "cell_type": "code",
      "source": [
        "def plot_text(nrows, ncols):\n",
        "  plt.figure(figsize=[12,6])\n",
        "  for i in range(1,nrows*ncols+1):\n",
        "    plt.subplot(nrows, ncols, i)\n",
        "    k=np.random.randint(10000)\n",
        "    plt.imshow(x_test[k], cmap=\"gray\")\n",
        "    plt.title(f'Actual:{y_true[k]}\\npredicted:{y_predict[k]}',fontsize='small')\n",
        "    plt.axis('off')\n",
        "    # Now that the subplot is created, you'll need to add some content.\n",
        "    # Example: Plot an image from your data X (You might need to modify based on the dimensions of your image data)\n",
        "    #plt.imshow(X[i], cmap=\"gray\")\n",
        "  plt.show()\n",
        "\n",
        "plot_text(3, 6)"
      ],
      "metadata": {
        "id": "xMnn1nSzAyZs"
      },
      "execution_count": null,
      "outputs": []
    },
    {
      "cell_type": "code",
      "source": [
        "#mnist---\n",
        "#mnist full\n",
        "# Diabatic\n",
        "# age_gender\n",
        "# Date time"
      ],
      "metadata": {
        "id": "fMNETbtyCsg_"
      },
      "execution_count": null,
      "outputs": []
    },
    {
      "cell_type": "code",
      "source": [],
      "metadata": {
        "id": "W6ViA602DbLc"
      },
      "execution_count": null,
      "outputs": []
    },
    {
      "cell_type": "code",
      "source": [],
      "metadata": {
        "id": "LgbI3X9bDbTT"
      },
      "execution_count": null,
      "outputs": []
    },
    {
      "cell_type": "code",
      "source": [],
      "metadata": {
        "id": "29ECJyvHDbWN"
      },
      "execution_count": null,
      "outputs": []
    },
    {
      "cell_type": "code",
      "source": [],
      "metadata": {
        "id": "w1zRmLaqDbZd"
      },
      "execution_count": null,
      "outputs": []
    },
    {
      "cell_type": "code",
      "source": [],
      "metadata": {
        "id": "0EVqq9b6DbgT"
      },
      "execution_count": null,
      "outputs": []
    },
    {
      "cell_type": "code",
      "source": [],
      "metadata": {
        "id": "4zHC9Z40Dbst"
      },
      "execution_count": null,
      "outputs": []
    }
  ]
}