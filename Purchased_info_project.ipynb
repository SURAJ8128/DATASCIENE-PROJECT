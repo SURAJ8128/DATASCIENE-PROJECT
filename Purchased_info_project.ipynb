{
  "nbformat": 4,
  "nbformat_minor": 0,
  "metadata": {
    "colab": {
      "private_outputs": true,
      "provenance": []
    },
    "kernelspec": {
      "name": "python3",
      "display_name": "Python 3"
    },
    "language_info": {
      "name": "python"
    }
  },
  "cells": [
    {
      "cell_type": "code",
      "execution_count": null,
      "metadata": {
        "id": "np7-fL2lJgA5"
      },
      "outputs": [],
      "source": [
        "import pandas as pd\n",
        "import numpy as np\n",
        "import matplotlib.pyplot as plt\n",
        "import seaborn as sns\n",
        "df1=pd.read_csv(\"/content/54 Mall.csv\")\n",
        "df1"
      ]
    },
    {
      "cell_type": "code",
      "source": [
        "df1.shape"
      ],
      "metadata": {
        "id": "9FBNnzaDJhj2"
      },
      "execution_count": null,
      "outputs": []
    },
    {
      "cell_type": "code",
      "source": [
        "df1.size"
      ],
      "metadata": {
        "id": "qQ76IVCwJhl9"
      },
      "execution_count": null,
      "outputs": []
    },
    {
      "cell_type": "code",
      "source": [
        "df1.isnull().sum()"
      ],
      "metadata": {
        "id": "0KzUtLswJhoq"
      },
      "execution_count": null,
      "outputs": []
    },
    {
      "cell_type": "code",
      "source": [
        "df1[df1.isnull().any(axis=1)]"
      ],
      "metadata": {
        "id": "miuWiVRXJhz7"
      },
      "execution_count": null,
      "outputs": []
    },
    {
      "cell_type": "code",
      "source": [
        "df1.duplicated().sum()"
      ],
      "metadata": {
        "id": "FpGoU7sNJh2p"
      },
      "execution_count": null,
      "outputs": []
    },
    {
      "cell_type": "code",
      "source": [
        "df1.columns"
      ],
      "metadata": {
        "id": "W1TiXM4IKeWD"
      },
      "execution_count": null,
      "outputs": []
    },
    {
      "cell_type": "code",
      "source": [
        "plt.figure(dpi=120)\n",
        "sns.countplot(x='Country',data=df1,color='yellow')"
      ],
      "metadata": {
        "id": "4ggfApDaKe5r"
      },
      "execution_count": null,
      "outputs": []
    },
    {
      "cell_type": "code",
      "source": [
        "df1['Purchased'].unique()"
      ],
      "metadata": {
        "id": "BbYPnDRFKe9I"
      },
      "execution_count": null,
      "outputs": []
    },
    {
      "cell_type": "code",
      "source": [
        "df1['Salary'].unique()"
      ],
      "metadata": {
        "id": "bKjFFOVFKfGQ"
      },
      "execution_count": null,
      "outputs": []
    },
    {
      "cell_type": "code",
      "source": [
        "df1.drop_duplicates(inplace=True)"
      ],
      "metadata": {
        "id": "BnxBpAS8KfJF"
      },
      "execution_count": null,
      "outputs": []
    },
    {
      "cell_type": "code",
      "source": [
        "df1.duplicated().sum()"
      ],
      "metadata": {
        "id": "iH9u_Xq6KfUS"
      },
      "execution_count": null,
      "outputs": []
    },
    {
      "cell_type": "code",
      "source": [
        "df1.info()"
      ],
      "metadata": {
        "id": "f8uC1s57KfXA"
      },
      "execution_count": null,
      "outputs": []
    },
    {
      "cell_type": "code",
      "source": [
        "avg1=df1['Age'].mean()\n",
        "avg2=df1['Salary'].mean()\n",
        "print(avg1,avg2)"
      ],
      "metadata": {
        "id": "PvdRls9GLmMM"
      },
      "execution_count": null,
      "outputs": []
    },
    {
      "cell_type": "code",
      "source": [
        "df1['Age'].replace(np.nan,avg1,inplace=True)"
      ],
      "metadata": {
        "id": "RkJ-Qk_mL3cl"
      },
      "execution_count": null,
      "outputs": []
    },
    {
      "cell_type": "code",
      "source": [
        "df1['Salary'].replace(np.nan,avg2,inplace=True)"
      ],
      "metadata": {
        "id": "9RhhDfyGL3n0"
      },
      "execution_count": null,
      "outputs": []
    },
    {
      "cell_type": "code",
      "source": [
        "df1[df1.isnull().any(axis=1)]"
      ],
      "metadata": {
        "id": "wCjDVRfGL3p2"
      },
      "execution_count": null,
      "outputs": []
    },
    {
      "cell_type": "code",
      "source": [
        "df1.isnull().sum()"
      ],
      "metadata": {
        "id": "J8fCk9NxL3sj"
      },
      "execution_count": null,
      "outputs": []
    },
    {
      "cell_type": "code",
      "source": [
        "plt.figure(dpi=120)\n",
        "sns.countplot(x='Purchased',data=df1,color='pink')\n",
        "plt.xlabel('Yes')\n",
        "plt.ylabel('No')\n",
        "plt.title('Puchase')\n",
        "plt.show()"
      ],
      "metadata": {
        "id": "e421y2c8L3w_"
      },
      "execution_count": null,
      "outputs": []
    },
    {
      "cell_type": "code",
      "source": [
        "dummy1=pd.get_dummies(df1['Country'])\n",
        "dummy1"
      ],
      "metadata": {
        "id": "EJmDt1gBL3zt"
      },
      "execution_count": null,
      "outputs": []
    },
    {
      "cell_type": "code",
      "source": [
        "dummy2=pd.get_dummies(df1['Purchased'])\n",
        "dummy2"
      ],
      "metadata": {
        "id": "HxDFcSwlL34d"
      },
      "execution_count": null,
      "outputs": []
    },
    {
      "cell_type": "code",
      "source": [
        "df2=pd.concat([df1,dummy1,dummy2],axis=1)\n",
        "df2\n"
      ],
      "metadata": {
        "id": "HafobPaTLmOA"
      },
      "execution_count": null,
      "outputs": []
    },
    {
      "cell_type": "code",
      "source": [
        "df2.drop(['Country','Purchased'],axis=1,inplace=True)\n",
        "df2"
      ],
      "metadata": {
        "id": "og9c3o1KLmQV"
      },
      "execution_count": null,
      "outputs": []
    },
    {
      "cell_type": "code",
      "source": [
        "df2.info()"
      ],
      "metadata": {
        "id": "kozbMX49LmTB"
      },
      "execution_count": null,
      "outputs": []
    },
    {
      "cell_type": "code",
      "source": [
        "x=df2.iloc[:,:-1].values\n",
        "x"
      ],
      "metadata": {
        "id": "QIrpn8iLLmXy"
      },
      "execution_count": null,
      "outputs": []
    },
    {
      "cell_type": "code",
      "source": [
        "y=df2.iloc[:,-1].values\n",
        "y"
      ],
      "metadata": {
        "id": "cqpl7jcvO--R"
      },
      "execution_count": null,
      "outputs": []
    },
    {
      "cell_type": "code",
      "source": [
        "from sklearn.impute import SimpleImputer\n",
        "imputer=SimpleImputer(missing_values=np.nan,strategy='mean')\n",
        "imputer.fit(x[:,1:3])\n",
        "x[:,1:3]=imputer.transform(x[:,1:3])\n",
        "x"
      ],
      "metadata": {
        "id": "0sciTX7zPK0D"
      },
      "execution_count": null,
      "outputs": []
    },
    {
      "cell_type": "code",
      "source": [
        "df2.columns"
      ],
      "metadata": {
        "id": "yxFFMOB7PMVO"
      },
      "execution_count": null,
      "outputs": []
    },
    {
      "cell_type": "code",
      "source": [
        "from sklearn.preprocessing import StandardScaler\n",
        "sc=StandardScaler()\n",
        "x[:,1:3]=sc.fit_transform(x[:,1:3])\n",
        "x"
      ],
      "metadata": {
        "id": "QWjtG5XRPMXn"
      },
      "execution_count": null,
      "outputs": []
    },
    {
      "cell_type": "code",
      "source": [
        "df2.head(5)"
      ],
      "metadata": {
        "id": "ENoXt-VEPMaG"
      },
      "execution_count": null,
      "outputs": []
    },
    {
      "source": [
        "from sklearn.compose import ColumnTransformer\n",
        "#from math import remainder # You don't need this import for ColumnTransformer\n",
        "from sklearn.preprocessing import OneHotEncoder\n",
        "ct=ColumnTransformer(transformers=[('encoder',OneHotEncoder(),[0])],remainder='passthrough') # Change 'Passthrough' to 'passthrough'\n",
        "x=np.array(ct.fit_transform(x))\n",
        "x"
      ],
      "cell_type": "code",
      "metadata": {
        "id": "kLNGpKPLT1RQ"
      },
      "execution_count": null,
      "outputs": []
    },
    {
      "cell_type": "code",
      "source": [
        "df2.head(5)"
      ],
      "metadata": {
        "id": "fl42k7vAQtJJ"
      },
      "execution_count": null,
      "outputs": []
    },
    {
      "cell_type": "code",
      "source": [
        "from sklearn.preprocessing import LabelEncoder\n",
        "label=LabelEncoder()\n",
        "y=label.fit_transform(y)\n",
        "y"
      ],
      "metadata": {
        "id": "TIyGmr8qQtLp"
      },
      "execution_count": null,
      "outputs": []
    },
    {
      "cell_type": "code",
      "source": [
        "z=df1['Country'].values\n",
        "z=label.fit_transform(z)\n",
        "z"
      ],
      "metadata": {
        "id": "1qY_eis3UMnD"
      },
      "execution_count": null,
      "outputs": []
    },
    {
      "cell_type": "code",
      "source": [
        "df1.head(5)"
      ],
      "metadata": {
        "id": "P2yHdTc3UMp0"
      },
      "execution_count": null,
      "outputs": []
    },
    {
      "cell_type": "code",
      "source": [
        "from sklearn.model_selection import train_test_split\n",
        "x_train,x_test,y_train,y_test=train_test_split(x,y,test_size=0.2,random_state=1)"
      ],
      "metadata": {
        "id": "RFTOOWXSUMsI"
      },
      "execution_count": null,
      "outputs": []
    },
    {
      "cell_type": "code",
      "source": [
        "x_test.shape"
      ],
      "metadata": {
        "id": "S6ecyqriUMue"
      },
      "execution_count": null,
      "outputs": []
    },
    {
      "cell_type": "code",
      "source": [
        "x_train.shape"
      ],
      "metadata": {
        "id": "BrdO_uj-UMwj"
      },
      "execution_count": null,
      "outputs": []
    },
    {
      "cell_type": "code",
      "source": [
        "y_test.shape"
      ],
      "metadata": {
        "id": "icxSKp9vUMzT"
      },
      "execution_count": null,
      "outputs": []
    },
    {
      "cell_type": "code",
      "source": [
        "y_train.shape"
      ],
      "metadata": {
        "id": "583qlRrkQtN_"
      },
      "execution_count": null,
      "outputs": []
    },
    {
      "cell_type": "code",
      "source": [
        "from sklearn.linear_model import LogisticRegression\n",
        "regressor=LogisticRegression()\n",
        "regressor.fit(x_train,y_train)"
      ],
      "metadata": {
        "id": "DFgUTwhDQtQy"
      },
      "execution_count": null,
      "outputs": []
    },
    {
      "cell_type": "code",
      "source": [
        "regressor.predict(x_test)"
      ],
      "metadata": {
        "id": "ub48dAIpQtSZ"
      },
      "execution_count": null,
      "outputs": []
    },
    {
      "cell_type": "code",
      "source": [
        "import matplotlib.pyplot as plt\n",
        "plt.figure(dpi=120)\n",
        "sns.distplot(x)"
      ],
      "metadata": {
        "id": "otMriUrsQtWo"
      },
      "execution_count": null,
      "outputs": []
    },
    {
      "cell_type": "code",
      "source": [
        "x1=np.random.random(100)\n",
        "plt.figure(dpi=100)\n",
        "sns.distplot(x1,color='green')"
      ],
      "metadata": {
        "id": "6KxV00crPMi8"
      },
      "execution_count": null,
      "outputs": []
    },
    {
      "cell_type": "code",
      "source": [
        "x=np.random.random(100)\n",
        "plt.figure(dpi=120)\n",
        "sns.distplot(x,color='red',hist=False)\n"
      ],
      "metadata": {
        "id": "Edak6o_OXdJ6"
      },
      "execution_count": null,
      "outputs": []
    },
    {
      "source": [
        "x=np.random.random(100)\n",
        "plt.figure(dpi=100)\n",
        "sns.distplot(x,color='Yellow',hist=False,vertical=True) # Changed 'verticle' to 'vertical'"
      ],
      "cell_type": "code",
      "metadata": {
        "id": "fH7c974aYnpu"
      },
      "execution_count": null,
      "outputs": []
    },
    {
      "cell_type": "code",
      "source": [],
      "metadata": {
        "id": "qb9AqajZXdOp"
      },
      "execution_count": null,
      "outputs": []
    },
    {
      "cell_type": "code",
      "source": [],
      "metadata": {
        "id": "P7fQnh_lXdTK"
      },
      "execution_count": null,
      "outputs": []
    },
    {
      "cell_type": "code",
      "source": [],
      "metadata": {
        "id": "UwrK_CE8Xdan"
      },
      "execution_count": null,
      "outputs": []
    },
    {
      "cell_type": "code",
      "source": [],
      "metadata": {
        "id": "bq4mpBhtXdda"
      },
      "execution_count": null,
      "outputs": []
    }
  ]
}