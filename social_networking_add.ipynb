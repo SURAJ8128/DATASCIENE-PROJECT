{
  "nbformat": 4,
  "nbformat_minor": 0,
  "metadata": {
    "colab": {
      "private_outputs": true,
      "provenance": []
    },
    "kernelspec": {
      "name": "python3",
      "display_name": "Python 3"
    },
    "language_info": {
      "name": "python"
    }
  },
  "cells": [
    {
      "cell_type": "code",
      "source": [
        "import pandas as pd\n",
        "import numpy as np\n",
        "import seaborn as sns\n",
        "df1=pd.read_csv(\"/content/sample_data/Social_Network_Ads.csv\")\n",
        "df1"
      ],
      "metadata": {
        "id": "VHH7QzCCkYR8"
      },
      "execution_count": null,
      "outputs": []
    },
    {
      "cell_type": "code",
      "source": [
        "df1.columns"
      ],
      "metadata": {
        "id": "tP_TwzikkYXi"
      },
      "execution_count": null,
      "outputs": []
    },
    {
      "cell_type": "code",
      "source": [
        "df1.shape"
      ],
      "metadata": {
        "id": "SQddMvOEkYZ0"
      },
      "execution_count": null,
      "outputs": []
    },
    {
      "cell_type": "code",
      "source": [
        "df1.size"
      ],
      "metadata": {
        "id": "kx-mtKU4kYcm"
      },
      "execution_count": null,
      "outputs": []
    },
    {
      "cell_type": "code",
      "source": [
        "df1.info()"
      ],
      "metadata": {
        "id": "V4ZTuZlNkYe3"
      },
      "execution_count": null,
      "outputs": []
    },
    {
      "cell_type": "code",
      "source": [
        "df1.describe()"
      ],
      "metadata": {
        "id": "cZLVQw4zkYiG"
      },
      "execution_count": null,
      "outputs": []
    },
    {
      "cell_type": "code",
      "source": [
        "X=df1.iloc[:,:-1].values\n",
        "X"
      ],
      "metadata": {
        "id": "VG5KSaN2kYkr"
      },
      "execution_count": null,
      "outputs": []
    },
    {
      "cell_type": "code",
      "source": [
        "Y=df1.iloc[:,-1].values\n",
        "Y"
      ],
      "metadata": {
        "id": "MBrxjRMukYnX"
      },
      "execution_count": null,
      "outputs": []
    },
    {
      "cell_type": "code",
      "source": [
        "Y.shape"
      ],
      "metadata": {
        "id": "jF2_ybTyTjiU"
      },
      "execution_count": null,
      "outputs": []
    },
    {
      "cell_type": "code",
      "source": [
        "X.shape"
      ],
      "metadata": {
        "id": "u24l08yuTjlL"
      },
      "execution_count": null,
      "outputs": []
    },
    {
      "cell_type": "code",
      "source": [
        "from sklearn.preprocessing import StandardScaler\n",
        "std=StandardScaler()\n",
        "X[:,1:]=std.fit_transform(X[:,1:])"
      ],
      "metadata": {
        "id": "zWXotWxkTjn6"
      },
      "execution_count": null,
      "outputs": []
    },
    {
      "cell_type": "code",
      "source": [
        "from sklearn.model_selection import train_test_split\n",
        "x_train,x_test,y_train,y_test=train_test_split(X,Y,test_size=0.2,random_state=1)"
      ],
      "metadata": {
        "id": "EUI8_IWbTj9j"
      },
      "execution_count": null,
      "outputs": []
    },
    {
      "cell_type": "code",
      "source": [
        "x_train.shape"
      ],
      "metadata": {
        "id": "ksC52QorTkEf"
      },
      "execution_count": null,
      "outputs": []
    },
    {
      "cell_type": "code",
      "source": [
        "y_train.shape"
      ],
      "metadata": {
        "id": "zFGXy1Y4TkLi"
      },
      "execution_count": null,
      "outputs": []
    },
    {
      "cell_type": "code",
      "source": [
        "x_test.shape"
      ],
      "metadata": {
        "id": "OohlMA3fVToS"
      },
      "execution_count": null,
      "outputs": []
    },
    {
      "cell_type": "code",
      "source": [
        "y_test.shape"
      ],
      "metadata": {
        "id": "UjtyGeKlVWA_"
      },
      "execution_count": null,
      "outputs": []
    },
    {
      "cell_type": "code",
      "source": [
        "from sklearn.linear_model import LogisticRegression\n",
        "model=LogisticRegression()\n",
        "model.fit(x_train,y_train)"
      ],
      "metadata": {
        "id": "UtkSsgVkVbZF"
      },
      "execution_count": null,
      "outputs": []
    },
    {
      "cell_type": "code",
      "source": [
        "y_pred_train=model.predict(x_train)\n",
        "y_pred_train"
      ],
      "metadata": {
        "id": "GX03IXy2Vbhl"
      },
      "execution_count": null,
      "outputs": []
    },
    {
      "cell_type": "code",
      "source": [
        "y_pred_test=model.predict(x_test)\n",
        "y_pred_test"
      ],
      "metadata": {
        "id": "J22h7FM2VblP"
      },
      "execution_count": null,
      "outputs": []
    },
    {
      "cell_type": "code",
      "source": [
        "from sklearn.metrics import confusion_matrix\n",
        "matrix=confusion_matrix(y_train,y_pred_train)\n",
        "matrix"
      ],
      "metadata": {
        "id": "15aNAtkfVboK"
      },
      "execution_count": null,
      "outputs": []
    },
    {
      "cell_type": "code",
      "source": [
        "from sklearn.metrics import accuracy_score\n",
        "print(accuracy_score(y_train,y_pred_train))\n",
        "print(accuracy_score(y_test,y_pred_test))"
      ],
      "metadata": {
        "id": "I2jcOVQDWuu6"
      },
      "execution_count": null,
      "outputs": []
    },
    {
      "cell_type": "code",
      "source": [
        "from __future__ import print_function\n",
        "from sklearn.metrics import f1_score\n",
        "print(f1_score(y_train,y_pred_train))\n",
        "print(f1_score(y_test,y_pred_test))"
      ],
      "metadata": {
        "id": "nXa0rph9Wuyv"
      },
      "execution_count": null,
      "outputs": []
    },
    {
      "cell_type": "code",
      "source": [
        "a='4'\n",
        "b='6'\n",
        "print(a+b)"
      ],
      "metadata": {
        "id": "OtRESMoRWu2Z"
      },
      "execution_count": null,
      "outputs": []
    },
    {
      "cell_type": "code",
      "source": [
        "import pandas as pd\n",
        "import numpy as np\n",
        "import seaborn as sns\n",
        "df1=pd.read_csv(\"/content/caesarian.csv\")\n",
        "df1"
      ],
      "metadata": {
        "id": "dZ3hwUjqWu6C"
      },
      "execution_count": null,
      "outputs": []
    },
    {
      "cell_type": "code",
      "source": [
        "df1.isnull().sum()"
      ],
      "metadata": {
        "id": "0vLKAU5HWvLh"
      },
      "execution_count": null,
      "outputs": []
    },
    {
      "cell_type": "code",
      "source": [
        "df1.head()"
      ],
      "metadata": {
        "id": "46ICqFhhWvTa"
      },
      "execution_count": null,
      "outputs": []
    },
    {
      "cell_type": "code",
      "source": [
        "df1.isnull().any(axis=0)"
      ],
      "metadata": {
        "id": "FUrRaagWWvaU"
      },
      "execution_count": null,
      "outputs": []
    },
    {
      "cell_type": "code",
      "source": [
        "df1.isnull().any(axis=1)"
      ],
      "metadata": {
        "id": "3fIo7UXEVbq6"
      },
      "execution_count": null,
      "outputs": []
    },
    {
      "cell_type": "code",
      "source": [
        "df1[df1.isnull().any(axis=1)]"
      ],
      "metadata": {
        "id": "BJMSlWQAVbx6"
      },
      "execution_count": null,
      "outputs": []
    },
    {
      "cell_type": "code",
      "source": [
        "X=df1.iloc[:,:-1].values\n",
        "X"
      ],
      "metadata": {
        "id": "iyIAWtk-Vb6R"
      },
      "execution_count": null,
      "outputs": []
    },
    {
      "cell_type": "code",
      "source": [
        "X.ndim"
      ],
      "metadata": {
        "id": "1N9U-fcGg9Hp"
      },
      "execution_count": null,
      "outputs": []
    },
    {
      "cell_type": "code",
      "source": [
        "Y=df1.iloc[:,-1].values\n",
        "Y"
      ],
      "metadata": {
        "id": "l3NzcycFg9KD"
      },
      "execution_count": null,
      "outputs": []
    },
    {
      "cell_type": "code",
      "source": [
        "from sklearn.model_selection import train_test_split\n",
        "x_train,x_test,y_train,y_test=train_test_split(X,Y,test_size=0.33,random_state=5)"
      ],
      "metadata": {
        "id": "wzJmjQKgg9Mo"
      },
      "execution_count": null,
      "outputs": []
    },
    {
      "cell_type": "code",
      "source": [
        "x_test.shape"
      ],
      "metadata": {
        "id": "5mIpKXmChQoy"
      },
      "execution_count": null,
      "outputs": []
    },
    {
      "cell_type": "code",
      "source": [
        "y_train.shape"
      ],
      "metadata": {
        "id": "T0Fn-tK0hQw-"
      },
      "execution_count": null,
      "outputs": []
    },
    {
      "cell_type": "code",
      "source": [
        "x_train.shape"
      ],
      "metadata": {
        "id": "m86PlbdHhQz2"
      },
      "execution_count": null,
      "outputs": []
    },
    {
      "cell_type": "code",
      "source": [
        "y_test.shape"
      ],
      "metadata": {
        "id": "g8W0SGUshQ2V"
      },
      "execution_count": null,
      "outputs": []
    },
    {
      "cell_type": "code",
      "source": [
        "x_test.shape"
      ],
      "metadata": {
        "id": "7UWwdCR7hQ5R"
      },
      "execution_count": null,
      "outputs": []
    },
    {
      "cell_type": "code",
      "source": [
        "from sklearn.preprocessing import StandardScaler\n",
        "sc=StandardScaler()"
      ],
      "metadata": {
        "id": "1GY60vJJhQ7f"
      },
      "execution_count": null,
      "outputs": []
    },
    {
      "cell_type": "code",
      "source": [
        "x_train=sc.fit_transform(x_train)\n",
        "x_train"
      ],
      "metadata": {
        "id": "siMa1RoKhQ-R"
      },
      "execution_count": null,
      "outputs": []
    },
    {
      "cell_type": "code",
      "source": [
        "x_test=sc.fit_transform(x_test)\n",
        "x_test"
      ],
      "metadata": {
        "id": "dp-qByxQhRHY"
      },
      "execution_count": null,
      "outputs": []
    },
    {
      "cell_type": "code",
      "source": [
        "from sklearn.neighbors import KNeighborsClassifier\n",
        "model=KNeighborsClassifier(n_neighbors=5)\n",
        "\n"
      ],
      "metadata": {
        "id": "xjy7KWImhRR_"
      },
      "execution_count": null,
      "outputs": []
    },
    {
      "cell_type": "code",
      "source": [
        "model.fit(x_train,y_train)\n",
        "label_pred=model.predict(x_test)"
      ],
      "metadata": {
        "id": "9A9C4cADg9PR"
      },
      "execution_count": null,
      "outputs": []
    },
    {
      "cell_type": "code",
      "source": [
        "len(x_test)"
      ],
      "metadata": {
        "id": "Ky-3XwuRg9SI"
      },
      "execution_count": null,
      "outputs": []
    },
    {
      "cell_type": "code",
      "source": [
        "label_pred"
      ],
      "metadata": {
        "id": "xVORhcFog9Vx"
      },
      "execution_count": null,
      "outputs": []
    },
    {
      "cell_type": "code",
      "source": [
        "from sklearn.metrics import confusion_matrix\n",
        "confusion_matrix(y_test,label_pred)"
      ],
      "metadata": {
        "id": "5bCNiDzeg9Yi"
      },
      "execution_count": null,
      "outputs": []
    },
    {
      "cell_type": "code",
      "source": [
        "age = int(input(\"enter your age\"))\n",
        "if age>=18:\n",
        "    print(\"you are eligible for vote\")\n",
        "else:\n",
        "    print(\"not eligible\")\n",
        "if age>=30:\n",
        "    print(\"you must\")\n",
        "else:\n",
        "    pass\n",
        "    print(\"you are not eligible\")"
      ],
      "metadata": {
        "id": "rGnraJBPg9dI"
      },
      "execution_count": null,
      "outputs": []
    },
    {
      "cell_type": "code",
      "source": [],
      "metadata": {
        "id": "9mM_OkeHVcCn"
      },
      "execution_count": null,
      "outputs": []
    },
    {
      "cell_type": "code",
      "source": [
        "#"
      ],
      "metadata": {
        "id": "CeeujE5fqrVh"
      },
      "execution_count": null,
      "outputs": []
    },
    {
      "cell_type": "code",
      "source": [
        "import pandas as pd\n",
        "import numpy as np\n",
        "import seaborn as sns\n",
        "df1=pd.read_csv(\"/content/CO2 Emissions_Canada.csv\")\n",
        "df1"
      ],
      "metadata": {
        "id": "kxnGLMG_un41"
      },
      "execution_count": null,
      "outputs": []
    },
    {
      "cell_type": "code",
      "source": [
        "df1.shape"
      ],
      "metadata": {
        "id": "f4mkhVhKuoAH"
      },
      "execution_count": null,
      "outputs": []
    },
    {
      "cell_type": "code",
      "source": [
        "df1.size"
      ],
      "metadata": {
        "id": "0g9HWWn5uoCL"
      },
      "execution_count": null,
      "outputs": []
    },
    {
      "cell_type": "code",
      "source": [
        "df1.info()"
      ],
      "metadata": {
        "id": "ilY-x-htuoEl"
      },
      "execution_count": null,
      "outputs": []
    },
    {
      "cell_type": "code",
      "source": [
        "df1.duplicated().sum()"
      ],
      "metadata": {
        "id": "Vd90Zzc-uoHL"
      },
      "execution_count": null,
      "outputs": []
    },
    {
      "cell_type": "code",
      "source": [
        "df1.isnull().sum()"
      ],
      "metadata": {
        "id": "wN0TgWb6uoJ1"
      },
      "execution_count": null,
      "outputs": []
    },
    {
      "cell_type": "code",
      "source": [
        "df1[df1.isnull().any(axis=1)]"
      ],
      "metadata": {
        "id": "P4VpbtTfuoSD"
      },
      "execution_count": null,
      "outputs": []
    },
    {
      "cell_type": "code",
      "source": [],
      "metadata": {
        "id": "Kj0npcFfqrYU"
      },
      "execution_count": null,
      "outputs": []
    },
    {
      "cell_type": "code",
      "source": [
        "df1.head(5)"
      ],
      "metadata": {
        "id": "61C8eW-I1c6g"
      },
      "execution_count": null,
      "outputs": []
    },
    {
      "cell_type": "code",
      "source": [
        "df1.sample()"
      ],
      "metadata": {
        "id": "TY0nA91K1c88"
      },
      "execution_count": null,
      "outputs": []
    },
    {
      "cell_type": "code",
      "source": [
        "df1.describe()"
      ],
      "metadata": {
        "id": "C-QuXhwv1c_Z"
      },
      "execution_count": null,
      "outputs": []
    },
    {
      "cell_type": "code",
      "source": [
        "df1.drop_duplicates(inplace=True)"
      ],
      "metadata": {
        "id": "By5g4bFu1dCd"
      },
      "execution_count": null,
      "outputs": []
    },
    {
      "cell_type": "code",
      "source": [
        "df1.shape"
      ],
      "metadata": {
        "id": "nbVFnP4O14Sf"
      },
      "execution_count": null,
      "outputs": []
    },
    {
      "cell_type": "code",
      "source": [
        "df1.duplicated().sum()"
      ],
      "metadata": {
        "id": "KwhZPFKB14VQ"
      },
      "execution_count": null,
      "outputs": []
    },
    {
      "cell_type": "code",
      "source": [
        "df1['Vehicle Class'].unique()"
      ],
      "metadata": {
        "id": "IZvOruHJ14ZN"
      },
      "execution_count": null,
      "outputs": []
    },
    {
      "cell_type": "code",
      "source": [
        "df1['Engine Size(L)'].unique()"
      ],
      "metadata": {
        "id": "ZUqEdObV14bu"
      },
      "execution_count": null,
      "outputs": []
    },
    {
      "cell_type": "code",
      "source": [
        "df1['Cylinders'].unique()"
      ],
      "metadata": {
        "id": "R0i5uyxO14d8"
      },
      "execution_count": null,
      "outputs": []
    },
    {
      "cell_type": "code",
      "source": [
        "df1['Transmission'].unique()"
      ],
      "metadata": {
        "id": "pQSjVQk514gs"
      },
      "execution_count": null,
      "outputs": []
    },
    {
      "cell_type": "code",
      "source": [
        "df1['Fuel Type'].unique()"
      ],
      "metadata": {
        "id": "yetWLTqp14n3"
      },
      "execution_count": null,
      "outputs": []
    },
    {
      "cell_type": "code",
      "source": [
        "df1.info()"
      ],
      "metadata": {
        "id": "-E8YONqk14wJ"
      },
      "execution_count": null,
      "outputs": []
    },
    {
      "cell_type": "code",
      "source": [
        "import matplotlib.pyplot as plt\n",
        "plt.figure(dpi=120)\n",
        "sns.lineplot(x=df1['Engine Size(L)'], y=df1['CO2 Emissions(g/km)'])"
      ],
      "metadata": {
        "id": "-mZPQoB029cn"
      },
      "execution_count": null,
      "outputs": []
    },
    {
      "cell_type": "code",
      "source": [
        "plt.figure(dpi=120)\n",
        "df1.plot(x='Engine Size(L)',y='CO2 Emissions(g/km)',kind='line')"
      ],
      "metadata": {
        "id": "9J1p4cr129k-"
      },
      "execution_count": null,
      "outputs": []
    },
    {
      "source": [
        "import matplotlib.pyplot as plt\n",
        "import seaborn as sns\n",
        "\n",
        "plt.figure(dpi=120)\n",
        "sns.lineplot(x='Fuel Consumption City (L/100 km)', y='CO2 Emissions(g/km)', data=df1)\n",
        "# Pass the data as a single DataFrame argument with x and y specified as column names\n",
        "plt.show()"
      ],
      "cell_type": "code",
      "metadata": {
        "id": "_KM00lRh5u7z"
      },
      "execution_count": null,
      "outputs": []
    },
    {
      "cell_type": "code",
      "source": [
        "import matplotlib.pyplot as plt\n",
        "import seaborn as sns\n",
        "plt.figure(dpi=120)\n",
        "sns.lineplot(x=df1['Fuel Consumption Comb (L/100 km)'],y=df1['CO2 Emissions(g/km)'])\n",
        "plt.show()"
      ],
      "metadata": {
        "id": "W5a3FZ8l29pu"
      },
      "execution_count": null,
      "outputs": []
    },
    {
      "source": [
        "import matplotlib.pyplot as plt\n",
        "import seaborn as sns  # Import Seaborn\n",
        "\n",
        "plt.figure(dpi=120)\n",
        "sns.lineplot(x=df1['Fuel Consumption Comb (L/100 km)'], y=df1['CO2 Emissions(g/km)']) # Use sns.lineplot\n",
        "plt.show()"
      ],
      "cell_type": "code",
      "metadata": {
        "id": "Z1qYGaCW61zT"
      },
      "execution_count": null,
      "outputs": []
    },
    {
      "source": [
        "# Convert 'CO2 Emissions(g/km)' column to numeric, handling non-numeric values\n",
        "df1['CO2 Emissions(g/km)'] = pd.to_numeric(df1['CO2 Emissions(g/km)'], errors='coerce')\n",
        "\n",
        "# Calculate the order of fuel types based on mean CO2 emissions\n",
        "order = df1.groupby(['Fuel Type'])['CO2 Emissions(g/km)'].mean().sort_values(ascending=True).index\n",
        "\n",
        "# Create the bar plot\n",
        "sns.barplot(x=df1['Fuel Type'], y=df1['CO2 Emissions(g/km)'], order=order)\n",
        "plt.show()"
      ],
      "cell_type": "code",
      "metadata": {
        "id": "B8Nn2Gbu85nM"
      },
      "execution_count": null,
      "outputs": []
    },
    {
      "cell_type": "code",
      "source": [
        "plt.figure(dpi=120)\n",
        "sns.boxplot(x=df1['Fuel Type'],y=df1['CO2 Emissions(g/km)'],data=df1)\n"
      ],
      "metadata": {
        "id": "nrLNvoCX29_B"
      },
      "execution_count": null,
      "outputs": []
    },
    {
      "source": [
        "plt.figure(dpi=120)\n",
        "# Correct the typo and calculate mean on numeric columns only\n",
        "order = df1.groupby(['Vehicle Class'])['CO2 Emissions(g/km)'].mean().sort_values(ascending=False).index\n",
        "sns.barplot(x='CO2 Emissions(g/km)',y='Vehicle Class',data=df1,order=order);\n",
        "plt.show()"
      ],
      "cell_type": "code",
      "metadata": {
        "id": "JCa8Dq-3CbUs"
      },
      "execution_count": null,
      "outputs": []
    },
    {
      "cell_type": "code",
      "source": [
        "plt.figure(dpi=120)\n",
        "sns.barplot(x=df1['CO2 Emissions(g/km)'],y=df1['Vehicle Class'])"
      ],
      "metadata": {
        "id": "N3OoyOJz1dEy"
      },
      "execution_count": null,
      "outputs": []
    },
    {
      "source": [
        "plt.figure(dpi=120)\n",
        "# Verify the correct column name and use it below\n",
        "order = df1.groupby(['Transmission'])['Fuel Consumption City (L/100 km)'].mean().sort_values(ascending=False).index\n",
        "sns.barplot(x='CO2 Emissions(g/km)',y='Transmission',data=df1,order=order);\n",
        "plt.show()"
      ],
      "cell_type": "code",
      "metadata": {
        "id": "-b6ELVScEX_U"
      },
      "execution_count": null,
      "outputs": []
    },
    {
      "cell_type": "code",
      "source": [
        "def calculate_co2_emissions(fuel_type, fuel_amount):\n",
        "    \"\"\"\n",
        "    Calculate CO2 emissions based on fuel type and fuel amount.\n",
        "\n",
        "    :param fuel_type: str, type of fuel ('gasoline' or 'diesel')\n",
        "    :param fuel_amount: float, amount of fuel consumed in liters\n",
        "    :return: float, CO2 emissions in kilograms\n",
        "    \"\"\"\n",
        "    emission_factors = {\n",
        "        'gasoline': 2.31,  # kg CO2 per liter\n",
        "        'diesel': 2.68     # kg CO2 per liter\n",
        "    }\n",
        "\n",
        "    if fuel_type not in emission_factors:\n",
        "        raise ValueError(\"Invalid fuel type. Choose 'gasoline' or 'diesel'.\")\n",
        "\n",
        "    co2_emissions = fuel_amount * emission_factors[fuel_type]\n",
        "    return co2_emissions\n",
        "\n",
        "# Example usage\n",
        "fuel_type = 'gasoline'\n",
        "fuel_amount = 50.0  # in liters\n",
        "\n",
        "co2_emissions = calculate_co2_emissions(fuel_type, fuel_amount)\n",
        "print(f\"CO2 emissions for {fuel_amount} liters of {fuel_type}: {co2_emissions} kg\")\n"
      ],
      "metadata": {
        "id": "3W63xqri1dWO"
      },
      "execution_count": null,
      "outputs": []
    },
    {
      "cell_type": "code",
      "source": [
        "import pandas as pd\n",
        "import numpy as np\n",
        "import seaborn as sns\n",
        "df1=pd.read_csv(\"/content/sample_data/president_height.csv\")\n",
        "df1"
      ],
      "metadata": {
        "id": "AMcAC9H11dfL"
      },
      "execution_count": null,
      "outputs": []
    },
    {
      "cell_type": "code",
      "source": [
        "df1.shape"
      ],
      "metadata": {
        "id": "CLpjQwtcIQxz"
      },
      "execution_count": null,
      "outputs": []
    },
    {
      "cell_type": "code",
      "source": [
        "df1.size"
      ],
      "metadata": {
        "id": "VJfZHqjUIQ0S"
      },
      "execution_count": null,
      "outputs": []
    },
    {
      "cell_type": "code",
      "source": [
        "df1.isnull().sum()"
      ],
      "metadata": {
        "id": "X7-Tt11OIQ3B"
      },
      "execution_count": null,
      "outputs": []
    },
    {
      "cell_type": "code",
      "source": [
        "df1.info()"
      ],
      "metadata": {
        "id": "IaHD3Q_bIQ5j"
      },
      "execution_count": null,
      "outputs": []
    },
    {
      "cell_type": "code",
      "source": [
        "df1.describe()"
      ],
      "metadata": {
        "id": "djFVFrNpIQ8p"
      },
      "execution_count": null,
      "outputs": []
    },
    {
      "cell_type": "code",
      "source": [
        "import matplotlib.pyplot as plt\n",
        "plt.figure(dpi=120)\n",
        "sns.barplot(x=df1['height(cm)'],y=df1['order'])\n",
        "plt.show()"
      ],
      "metadata": {
        "id": "R2aIDsjMIQ_n"
      },
      "execution_count": null,
      "outputs": []
    },
    {
      "cell_type": "code",
      "source": [
        "df1.columns"
      ],
      "metadata": {
        "id": "bGO7ovc11dh-"
      },
      "execution_count": null,
      "outputs": []
    },
    {
      "cell_type": "code",
      "source": [],
      "metadata": {
        "id": "0dNpB1eNa5Xm"
      },
      "execution_count": null,
      "outputs": []
    },
    {
      "cell_type": "code",
      "source": [],
      "metadata": {
        "id": "1thcdpq2bwGH"
      },
      "execution_count": null,
      "outputs": []
    },
    {
      "cell_type": "code",
      "source": [],
      "metadata": {
        "id": "2Z4fq43DbwIz"
      },
      "execution_count": null,
      "outputs": []
    },
    {
      "cell_type": "code",
      "source": [],
      "metadata": {
        "id": "RbXJdYJrbwLa"
      },
      "execution_count": null,
      "outputs": []
    },
    {
      "cell_type": "code",
      "source": [],
      "metadata": {
        "id": "vmGIh1W7bwNq"
      },
      "execution_count": null,
      "outputs": []
    },
    {
      "cell_type": "code",
      "source": [],
      "metadata": {
        "id": "sT3AhVXqbwP5"
      },
      "execution_count": null,
      "outputs": []
    },
    {
      "cell_type": "code",
      "source": [],
      "metadata": {
        "id": "x6VMBhyebwSo"
      },
      "execution_count": null,
      "outputs": []
    },
    {
      "cell_type": "code",
      "source": [],
      "metadata": {
        "id": "q_yiVnKLbwW8"
      },
      "execution_count": null,
      "outputs": []
    }
  ]
}