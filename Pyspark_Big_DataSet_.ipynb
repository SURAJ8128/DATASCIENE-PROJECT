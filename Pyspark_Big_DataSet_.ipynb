{
  "nbformat": 4,
  "nbformat_minor": 0,
  "metadata": {
    "colab": {
      "private_outputs": true,
      "provenance": []
    },
    "kernelspec": {
      "name": "python3",
      "display_name": "Python 3"
    },
    "language_info": {
      "name": "python"
    }
  },
  "cells": [
    {
      "cell_type": "code",
      "execution_count": null,
      "metadata": {
        "id": "VmAuDc0nc2P6"
      },
      "outputs": [],
      "source": [
        "# pyspark-->what is apache spark\n",
        "# why pyspark\n",
        "# need for pyspark\n",
        "# spark python vs scela\n",
        "# pyspark feature\n",
        "# real life uses of pyspark\n",
        "# pyspark job market.\n",
        "# evaluation of spark-- spark was developed by \"amitey jhariya\" in amp lab, barkely in year 2009\n",
        "# sparkely was made oprn source2009\n",
        "#sprk was donated to apache software foundation 2013"
      ]
    },
    {
      "cell_type": "code",
      "source": [
        "#--> what is apche spark-->it is a open source -distributed cluster computeing frame work with memory computing\n",
        "# in parrell computing style\n",
        "# use of large scale dataprocessing\n",
        "# used in memory computation--> here datagets loded in to ram an get process with in ram\n",
        "# here data devided in to partion and partions are distributed approx multiple ram of multiple working nodes and are process parraly.\n",
        "# it is general engine for big dataAnalysis."
      ],
      "metadata": {
        "id": "k43084htfIHv"
      },
      "execution_count": null,
      "outputs": []
    },
    {
      "cell_type": "code",
      "source": [
        "# why pyspark--> pyspark is the python api uses to use spark\n",
        "# pyspark is the liting fast technology\n",
        "# used pyspark for diartibuted sql.\n",
        "# pyspark use for createing pipeline injusting data into database.\n",
        "#running machine learning algorithm\n",
        "# working graf\n",
        "# working with datastream.\n",
        "# spark use--> scela.\n",
        "# need for pyspark.\n",
        "# python vs skela(imp)\n"
      ],
      "metadata": {
        "id": "0SMdSeLTfIKp"
      },
      "execution_count": null,
      "outputs": []
    },
    {
      "cell_type": "code",
      "source": [
        "# cifer ten data set\n",
        "# plant desies detection"
      ],
      "metadata": {
        "id": "rYTcXsJrfIN-"
      },
      "execution_count": null,
      "outputs": []
    },
    {
      "cell_type": "code",
      "source": [
        "No\n",
        "MapReduce\n",
        "\n",
        "Pig\n",
        "\n",
        "1.\tIt is a Data Processing Language.\tIt is a Data Flow Language.\n",
        "2.\tIt converts the job into map-reduce functions.\tIt converts the query into map-reduce functions.\n",
        "3.\tIt is a Low-level Language.\tIt is a High-level Language\n",
        "4.\tIt is difficult for the user to perform join operations.\tMakes it easy for the user to perform Join operations.\n",
        "5.\tThe user has to write 10 times more lines of code to perform a similar task than Pig.\tThe user has to write fewer lines of code because it supports the multi-query approach.\n",
        "6.\tIt has several jobs therefore execution time is more.\tIt is less compilation time as the Pig operator converts it into MapReduce jobs.\n",
        "7.\tIt is supported by recent versions of the Hadoop.\tIt is supported with all versions of Hadoop.\n",
        "\n",
        "\n",
        "M\n",
        "\n",
        "manmeetjuneja5\n",
        " Follow\n",
        "News\n",
        "\n",
        "1\n",
        "Next Article\n"
      ],
      "metadata": {
        "id": "0-PYNRDF9yV9"
      },
      "execution_count": null,
      "outputs": []
    },
    {
      "cell_type": "code",
      "source": [
        "# map reduce vs spark"
      ],
      "metadata": {
        "id": "HZHAL44cr4M6"
      },
      "execution_count": null,
      "outputs": []
    },
    {
      "cell_type": "code",
      "source": [
        "# TRANsformation can be reused\n",
        "# Bad for iterative algorithm\n",
        "# NOT A flexible parrelel process\n",
        "# slow processing\n",
        "\n",
        "# spark vs big"
      ],
      "metadata": {
        "id": "sSjuiw8Q90lt"
      },
      "execution_count": null,
      "outputs": []
    },
    {
      "cell_type": "code",
      "source": [
        "# PYSPArk feature and advantage."
      ],
      "metadata": {
        "id": "2gd0rN89900S"
      },
      "execution_count": null,
      "outputs": []
    },
    {
      "cell_type": "code",
      "source": [
        "#memory computation(tez)--.\n",
        "# distibuted aqujesion(hena shap)\n",
        "# flexible parrell process.(map reduce)\n",
        "# transformaiton can be reuse.\n",
        "# good for iterative Algorithms\n",
        "# high speed processing\n",
        "# multylanguage support\n",
        "# high speed processing\n",
        "# MUltilaNGUAGE SUPPORTT(python,scalla,java)\n",
        "# support advance analytics(graf)\n",
        "# lazy evoluted\n",
        "# percestance\n",
        "# powerful fault tollrante\n",
        "#\n"
      ],
      "metadata": {
        "id": "Na0E9ZQn903A"
      },
      "execution_count": null,
      "outputs": []
    },
    {
      "cell_type": "code",
      "source": [
        "# yahoo >>table 100 tera bite(1024)"
      ],
      "metadata": {
        "id": "e4CNLZWv90_P"
      },
      "execution_count": null,
      "outputs": []
    },
    {
      "cell_type": "markdown",
      "source": [
        "#Lazy Evaluation in Apache Spark"
      ],
      "metadata": {
        "id": "gmmBnec9Po2n"
      }
    },
    {
      "cell_type": "code",
      "source": [
        "Mom: Ashutosh, go to the market and bring a packet of milk.\n",
        "\n",
        "Me (Ignored, while writing on Medium, but I remember what she asked for): [Silence]\n",
        "\n",
        "Mom (after 2 mins): You are still here. Why are you not going? Anyway, bring 6 eggs too.\n",
        "\n",
        "Me (Ignored again, but kept in mind what she asked for): [Silence]\n",
        "\n",
        "Mom (after 1 min): Why are you not going to the market? I need the items immediately.\n",
        "\n",
        "Me: Ok Mom! I’ll go in 2 mins.\n",
        "\n",
        "Mom: Ok, bring some vegetables as well from the market.\n",
        "\n",
        "Me: (Listened to her, but too busy on Medium. Ignored again): [Silence]\n",
        "\n",
        "After a couple of minutes I heard some screaming sound. It was Mom coming towards me with an anger on her face and seeing her in ACTION, I immediately left for the market.\n",
        "\n",
        "I knew that I have to buy three different items, so I went straight to the supermarket and bought all the three from the same place and returned back to home."
      ],
      "metadata": {
        "id": "GVfcQKMoPqCk"
      },
      "execution_count": null,
      "outputs": []
    },
    {
      "cell_type": "markdown",
      "source": [
        "#*args"
      ],
      "metadata": {
        "id": "6cskdvyElCO1"
      }
    },
    {
      "cell_type": "code",
      "source": [
        "def sum_numbers(*args):\n",
        "    total = 0\n",
        "    for num in args:\n",
        "        total += num\n",
        "    return total\n",
        "\n",
        "# Calling the function\n",
        "print(sum_numbers(1, 2, 3))  # Output: 6\n",
        "print(sum_numbers(4, 5, 6, 7))  # Output: 22"
      ],
      "metadata": {
        "id": "qnMsLkSvlETN"
      },
      "execution_count": null,
      "outputs": []
    },
    {
      "cell_type": "markdown",
      "source": [
        "#*kwargs"
      ],
      "metadata": {
        "id": "BIPd8CyemeHj"
      }
    },
    {
      "cell_type": "code",
      "source": [
        "def print_details(**kwargs):\n",
        "    for key, value in kwargs.items():\n",
        "        print(f\"{key}: {value}\")\n",
        "\n",
        "# Calling the function\n",
        "print_details(name=\"Alice\", age=30, city=\"New York\")\n"
      ],
      "metadata": {
        "id": "p74ybmgs91B8"
      },
      "execution_count": null,
      "outputs": []
    },
    {
      "cell_type": "markdown",
      "source": [
        "#DataMunging"
      ],
      "metadata": {
        "id": "-Fr2TjxX182j"
      }
    },
    {
      "cell_type": "code",
      "source": [
        "Data munging, also known as data wrangling, is the process of converting raw data into a more usable format.\n",
        "Often, data munging occurs as a precursor to data analytics or data integration.\n",
        " High-quality data is essential for sophisticated data operations."
      ],
      "metadata": {
        "id": "BbO83i-k1_P0"
      },
      "execution_count": null,
      "outputs": []
    },
    {
      "cell_type": "code",
      "source": [
        "#Data wrangiling with pandas."
      ],
      "metadata": {
        "id": "vbJut0C491GV"
      },
      "execution_count": null,
      "outputs": []
    },
    {
      "cell_type": "code",
      "source": [
        "Data Discovery:\n",
        "Data Structuring:\n",
        "Data Cleansing:\n",
        "Data Validation:\n"
      ],
      "metadata": {
        "id": "-RgZvxUt91K0"
      },
      "execution_count": null,
      "outputs": []
    },
    {
      "cell_type": "code",
      "source": [
        "import pandas as pd\n"
      ],
      "metadata": {
        "id": "Bi86I8jB91Ot"
      },
      "execution_count": null,
      "outputs": []
    },
    {
      "cell_type": "markdown",
      "source": [
        "#Movie Lens DataSet"
      ],
      "metadata": {
        "id": "drASzGGAHy77"
      }
    },
    {
      "cell_type": "code",
      "source": [
        "! mkdir ./../data"
      ],
      "metadata": {
        "id": "vjlFCy47H2Tf"
      },
      "execution_count": null,
      "outputs": []
    },
    {
      "cell_type": "code",
      "source": [
        "! wget -q https://files.grouplens.org/datasets/movielens/ml-latest-small.zip"
      ],
      "metadata": {
        "id": "sLhwSuoMH3la"
      },
      "execution_count": null,
      "outputs": []
    },
    {
      "cell_type": "code",
      "source": [
        "! unzip ./ml-latest-small.zip -d ./../data/"
      ],
      "metadata": {
        "id": "1Vfdx9TxKciG"
      },
      "execution_count": null,
      "outputs": []
    },
    {
      "cell_type": "code",
      "source": [
        "datalocation = \"./../data/ml-latest-small/\""
      ],
      "metadata": {
        "id": "nwAsCEwEKcqa"
      },
      "execution_count": null,
      "outputs": []
    },
    {
      "cell_type": "code",
      "source": [
        "# specify file names\n",
        "file_path_movies = datalocation + \"movies.csv\"\n",
        "file_path_links = datalocation + \"links.csv\"\n",
        "file_path_ratings = datalocation + \"ratings.csv\"\n",
        "file_path_tags = datalocation + \"tags.csv\""
      ],
      "metadata": {
        "id": "CJD7SegOLCdH"
      },
      "execution_count": null,
      "outputs": []
    },
    {
      "cell_type": "code",
      "source": [
        "import numpy as np\n",
        "import pandas as pd\n",
        "\n",
        "print(\"numpy version: \", np.__version__)\n",
        "print(\"pandas version: \", pd.__version__)"
      ],
      "metadata": {
        "id": "Qzrp0awvLCf1"
      },
      "execution_count": null,
      "outputs": []
    },
    {
      "cell_type": "code",
      "source": [
        "csv_separator = \",\"# remove comma\n",
        "csv_escapechar = '\"'\n",
        "csv_encoding = \"utf-8\""
      ],
      "metadata": {
        "id": "51AHffbmLCin"
      },
      "execution_count": null,
      "outputs": []
    },
    {
      "cell_type": "code",
      "source": [
        "movies_schema = {\"movieId\": \"Int32\", \"title\": \"string\", \"genres\": \"string\"}"
      ],
      "metadata": {
        "id": "M5koFcXJLCqx"
      },
      "execution_count": null,
      "outputs": []
    },
    {
      "cell_type": "code",
      "source": [
        "# we need the quote character, not the escape character\n",
        "# just to keep things readable, let's create another variable\n",
        "csv_quotechar = csv_escapechar"
      ],
      "metadata": {
        "id": "WOh_Ey5gMfSZ"
      },
      "execution_count": null,
      "outputs": []
    },
    {
      "cell_type": "code",
      "source": [
        "movies = pd.read_csv(\"/content/sample_data/movies.csv\"\n",
        "    ,\n",
        "    dtype=movies_schema,\n",
        "    sep=csv_separator,\n",
        "    quotechar=csv_quotechar,\n",
        "    encoding=csv_encoding,\n",
        ")"
      ],
      "metadata": {
        "id": "TkHk9sYDMfU0"
      },
      "execution_count": null,
      "outputs": []
    },
    {
      "cell_type": "code",
      "source": [
        " #show the first 15 lines\n",
        "movies.head(15)"
      ],
      "metadata": {
        "id": "N30urv1LMfYX"
      },
      "execution_count": null,
      "outputs": []
    },
    {
      "cell_type": "code",
      "source": [
        "movies.dtypes"
      ],
      "metadata": {
        "id": "J8eromj2Mfbc"
      },
      "execution_count": null,
      "outputs": []
    },
    {
      "cell_type": "code",
      "source": [
        "links_schema = {\"movieId\": \"Int32\", \"imdbId\": \"string\", \"tmdbId\": \"string\"}"
      ],
      "metadata": {
        "id": "JwqUntuxMfeS"
      },
      "execution_count": null,
      "outputs": []
    },
    {
      "cell_type": "code",
      "source": [
        "links = pd.read_csv(\n",
        "    \"/content/sample_data/links.csv\",\n",
        "    dtype=links_schema,\n",
        "    sep=csv_separator,\n",
        "    quotechar=csv_quotechar,\n",
        "    encoding=csv_encoding,\n",
        ")"
      ],
      "metadata": {
        "id": "aPdbZ3beMfmi"
      },
      "execution_count": null,
      "outputs": []
    },
    {
      "cell_type": "code",
      "source": [
        "links.head()"
      ],
      "metadata": {
        "id": "Vc3hbf-dORv7"
      },
      "execution_count": null,
      "outputs": []
    },
    {
      "cell_type": "code",
      "source": [
        "links.head(15)"
      ],
      "metadata": {
        "id": "eC-T-ANKORyd"
      },
      "execution_count": null,
      "outputs": []
    },
    {
      "cell_type": "code",
      "source": [
        "links.dtypes"
      ],
      "metadata": {
        "id": "wACDJpEhOR0n"
      },
      "execution_count": null,
      "outputs": []
    },
    {
      "cell_type": "code",
      "source": [
        " #read timestamps as integers then convert to dates later.\n",
        "\n",
        "ratings_schema = {\n",
        "    \"userId\": \"Int32\",\n",
        "    \"movieId\": \"Int32\",\n",
        "    \"rating\": \"Float32\",\n",
        "    \"timestamp\": \"Int64\",\n",
        "}"
      ],
      "metadata": {
        "id": "V9-64lfBOR3S"
      },
      "execution_count": null,
      "outputs": []
    },
    {
      "cell_type": "code",
      "source": [
        "ratings = pd.read_csv(\n",
        "    \"/content/sample_data/ratings.csv\",\n",
        "    dtype=ratings_schema,\n",
        "    sep=csv_separator,\n",
        "    quotechar=csv_quotechar,\n",
        "    encoding=csv_encoding,\n",
        ")"
      ],
      "metadata": {
        "id": "9-GFPiIKMfwR"
      },
      "execution_count": null,
      "outputs": []
    },
    {
      "cell_type": "code",
      "source": [
        "ratings.head(15)"
      ],
      "metadata": {
        "id": "GURr3qrzMf64"
      },
      "execution_count": null,
      "outputs": []
    },
    {
      "cell_type": "code",
      "source": [
        "ratings.dtypes"
      ],
      "metadata": {
        "id": "weZ7m0o8LCty"
      },
      "execution_count": null,
      "outputs": []
    },
    {
      "cell_type": "code",
      "source": [
        " #now let's add a datetime column that we derive from the raw timestamp\n",
        "ratings[\"datetime\"] = pd.to_datetime(ratings[\"timestamp\"], unit=\"s\", utc=True)"
      ],
      "metadata": {
        "id": "aXmT1nR8LCwY"
      },
      "execution_count": null,
      "outputs": []
    },
    {
      "cell_type": "code",
      "source": [
        "ratings.dtypes"
      ],
      "metadata": {
        "id": "IgJybM4CQI2W"
      },
      "execution_count": null,
      "outputs": []
    },
    {
      "cell_type": "code",
      "source": [
        "ratings[\"date\"] = ratings[\"datetime\"].dt.date"
      ],
      "metadata": {
        "id": "1P8NlDcySV5p"
      },
      "execution_count": null,
      "outputs": []
    },
    {
      "cell_type": "code",
      "source": [
        "ratings.head()"
      ],
      "metadata": {
        "id": "4pG2ZSwWSWAz"
      },
      "execution_count": null,
      "outputs": []
    },
    {
      "cell_type": "code",
      "source": [
        "ratings.dtypes"
      ],
      "metadata": {
        "id": "sn4bSQibSWER"
      },
      "execution_count": null,
      "outputs": []
    },
    {
      "cell_type": "code",
      "source": [
        "ratings[\"date\"] = ratings[\"datetime\"].dt.date"
      ],
      "metadata": {
        "id": "1ZWavLleSWMN"
      },
      "execution_count": null,
      "outputs": []
    },
    {
      "cell_type": "code",
      "source": [
        "ratings[\"date\"] = pd.to_datetime(ratings[\"datetime\"].dt.date)"
      ],
      "metadata": {
        "id": "zmjknE1lS53i"
      },
      "execution_count": null,
      "outputs": []
    },
    {
      "cell_type": "code",
      "source": [
        "ratings.dtypes"
      ],
      "metadata": {
        "id": "8uHsPHzuS56O"
      },
      "execution_count": null,
      "outputs": []
    },
    {
      "cell_type": "code",
      "source": [
        "# extract the day, month and year of each rating\n",
        "ratings[\"day\"] = ratings[\"date\"].dt.day\n",
        "ratings[\"month\"] = ratings[\"date\"].dt.month\n",
        "ratings[\"year\"] = ratings[\"date\"].dt.year"
      ],
      "metadata": {
        "id": "FAFHpLCvS58u"
      },
      "execution_count": null,
      "outputs": []
    },
    {
      "cell_type": "code",
      "source": [
        "ratings.dtypes"
      ],
      "metadata": {
        "id": "qcErrp1RS6CH"
      },
      "execution_count": null,
      "outputs": []
    },
    {
      "cell_type": "code",
      "source": [
        "ratings.head()"
      ],
      "metadata": {
        "id": "fMmMXC5GS6Ek"
      },
      "execution_count": null,
      "outputs": []
    },
    {
      "cell_type": "code",
      "source": [
        "# schema, inferred from the README.txt file\n",
        "# read timestamps as integers then convert to dates later.\n",
        "# userId,movieId,tag,timestamp\n",
        "tags_schema = {\n",
        "    \"userId\": \"Int32\",\n",
        "    \"movieId\": \"Int32\",\n",
        "    \"tag\": \"string\",\n",
        "    \"timestamp\": \"Int64\",\n",
        "}"
      ],
      "metadata": {
        "id": "EjN_5mc4S6G3"
      },
      "execution_count": null,
      "outputs": []
    },
    {
      "cell_type": "code",
      "source": [
        "tags = pd.read_csv(\n",
        "    \"/content/sample_data/tags.csv\",\n",
        "    dtype=tags_schema,\n",
        "    sep=csv_separator,\n",
        "    quotechar=csv_quotechar,\n",
        "    encoding=csv_encoding,\n",
        ")"
      ],
      "metadata": {
        "id": "49SsGtLoS6Tp"
      },
      "execution_count": null,
      "outputs": []
    },
    {
      "cell_type": "code",
      "source": [
        "tags.head(15)"
      ],
      "metadata": {
        "id": "7kA083CpS6c5"
      },
      "execution_count": null,
      "outputs": []
    },
    {
      "cell_type": "code",
      "source": [
        "tags.dtypes"
      ],
      "metadata": {
        "id": "KawXgYNSSWXQ"
      },
      "execution_count": null,
      "outputs": []
    },
    {
      "cell_type": "code",
      "source": [
        "tags[\"datetime\"] = pd.to_datetime(tags[\"timestamp\"], unit=\"s\", utc=True)"
      ],
      "metadata": {
        "id": "9AVq2rJ-QI48"
      },
      "execution_count": null,
      "outputs": []
    },
    {
      "cell_type": "code",
      "source": [
        "tags.dtypes"
      ],
      "metadata": {
        "id": "aTi_8BAEQI7U"
      },
      "execution_count": null,
      "outputs": []
    },
    {
      "cell_type": "code",
      "source": [
        "tags.head()"
      ],
      "metadata": {
        "id": "dUDLcMq2QI-H"
      },
      "execution_count": null,
      "outputs": []
    },
    {
      "cell_type": "code",
      "source": [
        "tags[\"date\"] = pd.to_datetime(tags[\"datetime\"].dt.date)"
      ],
      "metadata": {
        "id": "R_9XisvyLDBl"
      },
      "execution_count": null,
      "outputs": []
    },
    {
      "cell_type": "code",
      "source": [
        "tags[\"day\"] = tags[\"date\"].dt.day\n",
        "tags[\"month\"] = tags[\"date\"].dt.month\n",
        "tags[\"year\"] = tags[\"date\"].dt.year"
      ],
      "metadata": {
        "id": "zphFk2xaYI9W"
      },
      "execution_count": null,
      "outputs": []
    },
    {
      "cell_type": "code",
      "source": [
        "tags.head()"
      ],
      "metadata": {
        "id": "erxJBcCIYI_l"
      },
      "execution_count": null,
      "outputs": []
    },
    {
      "cell_type": "code",
      "source": [
        "tags.dtypes"
      ],
      "metadata": {
        "id": "xvIhhfrNYJEZ"
      },
      "execution_count": null,
      "outputs": []
    },
    {
      "cell_type": "code",
      "source": [],
      "metadata": {
        "id": "ggzlCsUFYJGf"
      },
      "execution_count": null,
      "outputs": []
    },
    {
      "cell_type": "code",
      "source": [],
      "metadata": {
        "id": "VqSyUJPHYJJC"
      },
      "execution_count": null,
      "outputs": []
    },
    {
      "cell_type": "code",
      "source": [],
      "metadata": {
        "id": "zOkiotiSYJLD"
      },
      "execution_count": null,
      "outputs": []
    },
    {
      "cell_type": "code",
      "source": [],
      "metadata": {
        "id": "FZXA-cJhYJkZ"
      },
      "execution_count": null,
      "outputs": []
    },
    {
      "cell_type": "code",
      "source": [],
      "metadata": {
        "id": "kYQpEU3CKzPC"
      },
      "execution_count": null,
      "outputs": []
    },
    {
      "cell_type": "code",
      "source": [],
      "metadata": {
        "id": "SXqrB_nRKctZ"
      },
      "execution_count": null,
      "outputs": []
    },
    {
      "cell_type": "code",
      "source": [],
      "metadata": {
        "id": "1KHTiKAHKcwb"
      },
      "execution_count": null,
      "outputs": []
    },
    {
      "cell_type": "code",
      "source": [],
      "metadata": {
        "id": "6qbpCQJlKcy2"
      },
      "execution_count": null,
      "outputs": []
    },
    {
      "cell_type": "code",
      "source": [],
      "metadata": {
        "id": "FC7GHsm3Kc1l"
      },
      "execution_count": null,
      "outputs": []
    },
    {
      "cell_type": "code",
      "source": [],
      "metadata": {
        "id": "HLG9eAmBKc7E"
      },
      "execution_count": null,
      "outputs": []
    },
    {
      "cell_type": "code",
      "source": [],
      "metadata": {
        "id": "ScgnPeOSKdEN"
      },
      "execution_count": null,
      "outputs": []
    },
    {
      "cell_type": "code",
      "source": [],
      "metadata": {
        "id": "II2wWLytH4Gn"
      },
      "execution_count": null,
      "outputs": []
    },
    {
      "cell_type": "code",
      "source": [],
      "metadata": {
        "id": "NYsqEI0MH4QA"
      },
      "execution_count": null,
      "outputs": []
    },
    {
      "cell_type": "code",
      "source": [],
      "metadata": {
        "id": "QMPbtXaxH4Y0"
      },
      "execution_count": null,
      "outputs": []
    },
    {
      "cell_type": "code",
      "source": [],
      "metadata": {
        "id": "idHaOnIGH4is"
      },
      "execution_count": null,
      "outputs": []
    },
    {
      "cell_type": "code",
      "source": [],
      "metadata": {
        "id": "vS1GIhUX91Wp"
      },
      "execution_count": null,
      "outputs": []
    },
    {
      "cell_type": "code",
      "source": [],
      "metadata": {
        "id": "Gyk3JjReEv5x"
      },
      "execution_count": null,
      "outputs": []
    },
    {
      "cell_type": "code",
      "source": [],
      "metadata": {
        "id": "p3SDhCeAEv8d"
      },
      "execution_count": null,
      "outputs": []
    },
    {
      "cell_type": "code",
      "source": [],
      "metadata": {
        "id": "zkzqwOWLEv_N"
      },
      "execution_count": null,
      "outputs": []
    },
    {
      "cell_type": "code",
      "source": [],
      "metadata": {
        "id": "CNgbsi7fEwB9"
      },
      "execution_count": null,
      "outputs": []
    },
    {
      "cell_type": "markdown",
      "source": [
        "#"
      ],
      "metadata": {
        "id": "y9A_xwY_B2Go"
      }
    },
    {
      "cell_type": "code",
      "source": [],
      "metadata": {
        "id": "plaZtzVD9zXl"
      },
      "execution_count": null,
      "outputs": []
    },
    {
      "cell_type": "code",
      "source": [],
      "metadata": {
        "id": "yWW6fEed9zaT"
      },
      "execution_count": null,
      "outputs": []
    },
    {
      "cell_type": "code",
      "source": [],
      "metadata": {
        "id": "ySNdElbi9zdH"
      },
      "execution_count": null,
      "outputs": []
    },
    {
      "cell_type": "code",
      "source": [],
      "metadata": {
        "id": "F3KNak2p9zmy"
      },
      "execution_count": null,
      "outputs": []
    },
    {
      "cell_type": "code",
      "source": [],
      "metadata": {
        "id": "M0pnqgBf9zpM"
      },
      "execution_count": null,
      "outputs": []
    },
    {
      "cell_type": "code",
      "source": [],
      "metadata": {
        "id": "GCaZQzEi9zr_"
      },
      "execution_count": null,
      "outputs": []
    },
    {
      "cell_type": "code",
      "source": [],
      "metadata": {
        "id": "xY6vdYoU9z0x"
      },
      "execution_count": null,
      "outputs": []
    },
    {
      "cell_type": "code",
      "source": [],
      "metadata": {
        "id": "l7x4ibJS9ybS"
      },
      "execution_count": null,
      "outputs": []
    },
    {
      "cell_type": "code",
      "source": [],
      "metadata": {
        "id": "tmT8xRTa9ygf"
      },
      "execution_count": null,
      "outputs": []
    },
    {
      "cell_type": "code",
      "source": [],
      "metadata": {
        "id": "V6nndqzy9yi1"
      },
      "execution_count": null,
      "outputs": []
    },
    {
      "cell_type": "code",
      "source": [],
      "metadata": {
        "id": "_jcogxUX9ylo"
      },
      "execution_count": null,
      "outputs": []
    },
    {
      "cell_type": "code",
      "source": [],
      "metadata": {
        "id": "ynESEFzd9yvA"
      },
      "execution_count": null,
      "outputs": []
    },
    {
      "cell_type": "code",
      "source": [],
      "metadata": {
        "id": "AXdLIw1WnebR"
      },
      "execution_count": null,
      "outputs": []
    },
    {
      "cell_type": "code",
      "source": [],
      "metadata": {
        "id": "0bx3Q6ConehV"
      },
      "execution_count": null,
      "outputs": []
    },
    {
      "cell_type": "code",
      "source": [],
      "metadata": {
        "id": "d_EFQde9nekt"
      },
      "execution_count": null,
      "outputs": []
    },
    {
      "cell_type": "code",
      "source": [],
      "metadata": {
        "id": "Z3aq43yWnepq"
      },
      "execution_count": null,
      "outputs": []
    },
    {
      "cell_type": "code",
      "source": [],
      "metadata": {
        "id": "NBWp6vIenesf"
      },
      "execution_count": null,
      "outputs": []
    },
    {
      "cell_type": "code",
      "source": [],
      "metadata": {
        "id": "a_8w90wrneu-"
      },
      "execution_count": null,
      "outputs": []
    },
    {
      "cell_type": "code",
      "source": [],
      "metadata": {
        "id": "9VBmJlN7nexv"
      },
      "execution_count": null,
      "outputs": []
    },
    {
      "cell_type": "code",
      "source": [],
      "metadata": {
        "id": "APTlyGi8ne4l"
      },
      "execution_count": null,
      "outputs": []
    },
    {
      "cell_type": "code",
      "source": [],
      "metadata": {
        "id": "eyPXU0dGfIRE"
      },
      "execution_count": null,
      "outputs": []
    },
    {
      "cell_type": "code",
      "source": [],
      "metadata": {
        "id": "cOKdzWLKfIUe"
      },
      "execution_count": null,
      "outputs": []
    },
    {
      "cell_type": "code",
      "source": [],
      "metadata": {
        "id": "n3rvvxi1fIX2"
      },
      "execution_count": null,
      "outputs": []
    },
    {
      "cell_type": "code",
      "source": [],
      "metadata": {
        "id": "esSyyFbPfIaj"
      },
      "execution_count": null,
      "outputs": []
    },
    {
      "cell_type": "code",
      "source": [],
      "metadata": {
        "id": "9X4Ww05HfIem"
      },
      "execution_count": null,
      "outputs": []
    },
    {
      "cell_type": "code",
      "source": [],
      "metadata": {
        "id": "oxpXrTpAfIjE"
      },
      "execution_count": null,
      "outputs": []
    }
  ]
}