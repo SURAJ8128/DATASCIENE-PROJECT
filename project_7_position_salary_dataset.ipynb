{
  "nbformat": 4,
  "nbformat_minor": 0,
  "metadata": {
    "colab": {
      "private_outputs": true,
      "provenance": []
    },
    "kernelspec": {
      "name": "python3",
      "display_name": "Python 3"
    },
    "language_info": {
      "name": "python"
    }
  },
  "cells": [
    {
      "cell_type": "code",
      "execution_count": null,
      "metadata": {
        "id": "HLsl1vfUbpxu"
      },
      "outputs": [],
      "source": [
        "import pandas as pd\n",
        "df1=pd.read_csv(\"/content/Salaries (2).csv\")\n",
        "df1"
      ]
    },
    {
      "cell_type": "code",
      "source": [
        "df1.head()"
      ],
      "metadata": {
        "id": "YGZDvu9TqFMT"
      },
      "execution_count": null,
      "outputs": []
    },
    {
      "cell_type": "code",
      "source": [
        "df1.shape"
      ],
      "metadata": {
        "id": "TME6SbGEqFUh"
      },
      "execution_count": null,
      "outputs": []
    },
    {
      "cell_type": "code",
      "source": [
        "df1.size"
      ],
      "metadata": {
        "id": "rz_I5Bf5qFWD"
      },
      "execution_count": null,
      "outputs": []
    },
    {
      "cell_type": "code",
      "source": [
        "df1.duplicated().sum()"
      ],
      "metadata": {
        "id": "X8J26XAgqFY2"
      },
      "execution_count": null,
      "outputs": []
    },
    {
      "cell_type": "code",
      "source": [
        "df1[df1.isnull().any(axis=1)]"
      ],
      "metadata": {
        "id": "mtsfI-haqQI5"
      },
      "execution_count": null,
      "outputs": []
    },
    {
      "cell_type": "code",
      "source": [
        "df1.info()"
      ],
      "metadata": {
        "id": "XVt9nBduqkIN"
      },
      "execution_count": null,
      "outputs": []
    },
    {
      "cell_type": "code",
      "source": [
        "df1.sample()"
      ],
      "metadata": {
        "id": "nOZQi2zWqkUg"
      },
      "execution_count": null,
      "outputs": []
    },
    {
      "cell_type": "code",
      "source": [
        "df1['YearsExperience'].unique()"
      ],
      "metadata": {
        "id": "s6YVXvT6qkWy"
      },
      "execution_count": null,
      "outputs": []
    },
    {
      "cell_type": "code",
      "source": [
        "df1['Salary'].unique()"
      ],
      "metadata": {
        "id": "FBjB04lTqkZn"
      },
      "execution_count": null,
      "outputs": []
    },
    {
      "cell_type": "code",
      "source": [
        "x=df1['YearsExperience'].values\n",
        "x"
      ],
      "metadata": {
        "id": "jkEEyY20q_vS"
      },
      "execution_count": null,
      "outputs": []
    },
    {
      "cell_type": "code",
      "source": [
        "y=df1['Salary'].values\n",
        "y"
      ],
      "metadata": {
        "id": "WTDVb1W9q_6k"
      },
      "execution_count": null,
      "outputs": []
    },
    {
      "cell_type": "code",
      "source": [
        "x.shape"
      ],
      "metadata": {
        "id": "AMBPyrA9qkg5"
      },
      "execution_count": null,
      "outputs": []
    },
    {
      "cell_type": "code",
      "source": [
        "y.shape"
      ],
      "metadata": {
        "id": "ulSnmQRpqlFk"
      },
      "execution_count": null,
      "outputs": []
    },
    {
      "cell_type": "code",
      "source": [
        "import matplotlib.pyplot as plt\n",
        "plt.scatter(x,y)\n",
        "plt.show()"
      ],
      "metadata": {
        "id": "cv3MJoe8qlQE"
      },
      "execution_count": null,
      "outputs": []
    },
    {
      "cell_type": "code",
      "source": [
        "\n",
        "from sklearn.linear_model import LinearRegression\n",
        "reg=LinearRegression()"
      ],
      "metadata": {
        "id": "XW-pKVx4qQT3"
      },
      "execution_count": null,
      "outputs": []
    },
    {
      "cell_type": "code",
      "source": [
        "\n",
        "x=x.reshape(30,1)"
      ],
      "metadata": {
        "id": "53K0wlQkqQde"
      },
      "execution_count": null,
      "outputs": []
    },
    {
      "cell_type": "code",
      "source": [
        "\n",
        "x.ndim"
      ],
      "metadata": {
        "id": "LhN1cAfrqQnq"
      },
      "execution_count": null,
      "outputs": []
    },
    {
      "cell_type": "code",
      "source": [
        "reg.fit(x,y)"
      ],
      "metadata": {
        "id": "OmM3SfMzqQwf"
      },
      "execution_count": null,
      "outputs": []
    },
    {
      "cell_type": "code",
      "source": [
        "m=reg.coef_\n",
        "m"
      ],
      "metadata": {
        "id": "bG_RaoaeqQ81"
      },
      "execution_count": null,
      "outputs": []
    },
    {
      "cell_type": "code",
      "source": [
        "c=reg.intercept_\n",
        "c"
      ],
      "metadata": {
        "id": "QIUJB1_GqFhA"
      },
      "execution_count": null,
      "outputs": []
    },
    {
      "cell_type": "code",
      "source": [
        "# y=mx+c\n",
        "9449.96232146*11+25792.200198668696"
      ],
      "metadata": {
        "id": "d7ufc-fhqFnJ"
      },
      "execution_count": null,
      "outputs": []
    },
    {
      "cell_type": "code",
      "source": [
        "reg.predict([[11]])"
      ],
      "metadata": {
        "id": "IV1RxUVVtOTw"
      },
      "execution_count": null,
      "outputs": []
    },
    {
      "cell_type": "code",
      "source": [
        "plt.plot(x,reg.predict(x))"
      ],
      "metadata": {
        "id": "ww1AzkdOtOdv"
      },
      "execution_count": null,
      "outputs": []
    },
    {
      "cell_type": "code",
      "source": [
        "from sklearn.model_selection import train_test_split"
      ],
      "metadata": {
        "id": "qE_YYZTbtOmF"
      },
      "execution_count": null,
      "outputs": []
    },
    {
      "cell_type": "code",
      "source": [
        "x_train,x_test,y_train,y_test=train_test_split(x,y,test_size=0.25,random_state=5)"
      ],
      "metadata": {
        "id": "nAldjAtgtOtk"
      },
      "execution_count": null,
      "outputs": []
    },
    {
      "cell_type": "code",
      "source": [
        "x_train.shape"
      ],
      "metadata": {
        "id": "Yor5o6eztPWg"
      },
      "execution_count": null,
      "outputs": []
    },
    {
      "cell_type": "code",
      "source": [
        "x_test.shape"
      ],
      "metadata": {
        "id": "kbO9SsBotPgR"
      },
      "execution_count": null,
      "outputs": []
    },
    {
      "cell_type": "code",
      "source": [
        "\n",
        "reg.score(x_train,y_train)"
      ],
      "metadata": {
        "id": "vIO823_1vIL0"
      },
      "execution_count": null,
      "outputs": []
    },
    {
      "cell_type": "code",
      "source": [
        "reg.score(x_test,y_test)"
      ],
      "metadata": {
        "id": "Mp7WB_GevLWk"
      },
      "execution_count": null,
      "outputs": []
    },
    {
      "cell_type": "code",
      "source": [
        "plt.figure(dpi=120)\n",
        "plt.title(\"Employee Exprience\")\n",
        "plt.ylabel(\"Salary\")\n",
        "plt.xlabel(\"YearsExperience\")\n",
        "plt.scatter(x_train,y_train,color='blue',label='Datapoints')\n",
        "plt.plot(x_train,reg.predict(x_train),color=\"red\",label=\"bestline\")\n",
        "plt.legend()"
      ],
      "metadata": {
        "id": "lux1PAGAvi5r"
      },
      "execution_count": null,
      "outputs": []
    },
    {
      "cell_type": "code",
      "source": [
        "plt.figure(dpi=120)\n",
        "plt.title(\"Employee Exprience\")\n",
        "plt.ylabel(\"Salary\")\n",
        "plt.xlabel(\"YearsExperience\")\n",
        "plt.scatter(x_test,y_test,color='green',label='Datapoints')\n",
        "plt.plot(x_test,reg.predict(x_test),color=\"red\",label=\"bestline\")\n",
        "plt.legend()\n",
        "\n"
      ],
      "metadata": {
        "id": "t-Aqb7D1vjEW"
      },
      "execution_count": null,
      "outputs": []
    },
    {
      "cell_type": "code",
      "source": [
        "c1=x_test.ravel()\n",
        "c2=y_test.ravel()\n",
        "c3=reg.predict(x_test).ravel()\n",
        "c4=(y_test-reg.predict(x_test)).ravel()\n"
      ],
      "metadata": {
        "id": "aTFaJ8DhvjHE"
      },
      "execution_count": null,
      "outputs": []
    },
    {
      "cell_type": "code",
      "source": [
        "import pandas as pd\n",
        "df2=pd.DataFrame({'Employee Exprience':c1,'Salary':c2,'predictedvalue':c3,'diffrence':c4})"
      ],
      "metadata": {
        "id": "41CFuIHQvjO2"
      },
      "execution_count": null,
      "outputs": []
    },
    {
      "cell_type": "code",
      "source": [
        "df2"
      ],
      "metadata": {
        "id": "SvuoBzs_vjYS"
      },
      "execution_count": null,
      "outputs": []
    },
    {
      "cell_type": "markdown",
      "source": [
        "#position base salary Dataset"
      ],
      "metadata": {
        "id": "f2OPnZzhg9Fn"
      }
    },
    {
      "cell_type": "code",
      "source": [
        "import pandas as pd\n",
        "import numpy as np\n",
        "import seaborn as sns\n",
        "import matplotlib.pyplot as plt"
      ],
      "metadata": {
        "id": "NXi6usblhCft"
      },
      "execution_count": null,
      "outputs": []
    },
    {
      "cell_type": "code",
      "source": [
        "df1=pd.read_csv(\"/content/sample_data/Position_Salaries.csv\")\n",
        "df1"
      ],
      "metadata": {
        "id": "P18HtmbahNM2"
      },
      "execution_count": null,
      "outputs": []
    },
    {
      "cell_type": "code",
      "source": [
        "df1.shape"
      ],
      "metadata": {
        "id": "ihumaGb2vjgq"
      },
      "execution_count": null,
      "outputs": []
    },
    {
      "cell_type": "code",
      "source": [
        "df1.size"
      ],
      "metadata": {
        "id": "XXP96JKWvLh2"
      },
      "execution_count": null,
      "outputs": []
    },
    {
      "cell_type": "code",
      "source": [
        "df1.info()"
      ],
      "metadata": {
        "id": "a7rRed9phpLQ"
      },
      "execution_count": null,
      "outputs": []
    },
    {
      "cell_type": "code",
      "source": [
        "df1.drop_duplicates(inplace=True)"
      ],
      "metadata": {
        "id": "JKSIolndlD3g"
      },
      "execution_count": null,
      "outputs": []
    },
    {
      "cell_type": "code",
      "source": [
        "df1.drop(\"Position\", axis=1, inplace=True)"
      ],
      "metadata": {
        "id": "Bq9h6bJ4ldwe"
      },
      "execution_count": null,
      "outputs": []
    },
    {
      "cell_type": "code",
      "source": [
        "df1.describe()"
      ],
      "metadata": {
        "id": "xVikFIBwhrTK"
      },
      "execution_count": null,
      "outputs": []
    },
    {
      "cell_type": "code",
      "source": [
        "X=df1.iloc[:,:-1].values\n",
        "X"
      ],
      "metadata": {
        "id": "XMGbSwqdhtxu"
      },
      "execution_count": null,
      "outputs": []
    },
    {
      "cell_type": "code",
      "source": [
        "Y=df1.iloc[:,-1].values\n",
        "Y"
      ],
      "metadata": {
        "id": "fAJ47P1hhvcE"
      },
      "execution_count": null,
      "outputs": []
    },
    {
      "cell_type": "code",
      "source": [
        "from sklearn.model_selection import train_test_split\n",
        "x_train,x_test,y_train,y_test=train_test_split(X,Y,test_size=0.25,random_state=5)"
      ],
      "metadata": {
        "id": "_hxO2ycBhvpj"
      },
      "execution_count": null,
      "outputs": []
    },
    {
      "cell_type": "code",
      "source": [
        "x_train.shape"
      ],
      "metadata": {
        "id": "gw4BTKlehv07"
      },
      "execution_count": null,
      "outputs": []
    },
    {
      "cell_type": "code",
      "source": [
        "x_test.shape"
      ],
      "metadata": {
        "id": "hs5N2Nwyhv93"
      },
      "execution_count": null,
      "outputs": []
    },
    {
      "cell_type": "code",
      "source": [
        "y_train.shape"
      ],
      "metadata": {
        "id": "vYAhvsfwhwHE"
      },
      "execution_count": null,
      "outputs": []
    },
    {
      "cell_type": "code",
      "source": [
        "y_test.shape"
      ],
      "metadata": {
        "id": "rF8UiPGNhwRw"
      },
      "execution_count": null,
      "outputs": []
    },
    {
      "cell_type": "code",
      "source": [
        "from sklearn.linear_model import LinearRegression\n",
        "reg=LinearRegression()"
      ],
      "metadata": {
        "id": "PPFv8O8Ohwdb"
      },
      "execution_count": null,
      "outputs": []
    },
    {
      "cell_type": "code",
      "source": [
        "reg.fit(x_train,y_train)"
      ],
      "metadata": {
        "id": "hJ8go1Iai1li"
      },
      "execution_count": null,
      "outputs": []
    },
    {
      "cell_type": "code",
      "source": [
        "y_pred=reg.predict(x_test)"
      ],
      "metadata": {
        "id": "dskrr5n6l9Rf"
      },
      "execution_count": null,
      "outputs": []
    },
    {
      "cell_type": "code",
      "source": [
        "y_pred"
      ],
      "metadata": {
        "id": "2VZd32yvmFOs"
      },
      "execution_count": null,
      "outputs": []
    },
    {
      "cell_type": "code",
      "source": [
        "from sklearn.metrics import mean_absolute_error"
      ],
      "metadata": {
        "id": "DgjIMFDKmG63"
      },
      "execution_count": null,
      "outputs": []
    },
    {
      "cell_type": "code",
      "source": [
        "mean_absolute_error(y_test,y_pred)"
      ],
      "metadata": {
        "id": "YvBY7atamTK2"
      },
      "execution_count": null,
      "outputs": []
    },
    {
      "cell_type": "code",
      "source": [
        "from sklearn.metrics import mean_squared_log_error"
      ],
      "metadata": {
        "id": "mNILVZRimTYI"
      },
      "execution_count": null,
      "outputs": []
    },
    {
      "cell_type": "code",
      "source": [
        "mean_squared_log_error(y_pred,y_test)"
      ],
      "metadata": {
        "id": "yOHQd23omTfZ"
      },
      "execution_count": null,
      "outputs": []
    },
    {
      "cell_type": "code",
      "source": [
        "reg.score(x_test,y_test)"
      ],
      "metadata": {
        "id": "gwxOviXxmTny"
      },
      "execution_count": null,
      "outputs": []
    },
    {
      "cell_type": "code",
      "source": [],
      "metadata": {
        "id": "QGtRwHhWmTx7"
      },
      "execution_count": null,
      "outputs": []
    },
    {
      "cell_type": "code",
      "source": [],
      "metadata": {
        "id": "KZEOkETXmUCl"
      },
      "execution_count": null,
      "outputs": []
    }
  ]
}