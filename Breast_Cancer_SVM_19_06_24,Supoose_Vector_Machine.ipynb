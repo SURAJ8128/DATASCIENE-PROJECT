{
  "nbformat": 4,
  "nbformat_minor": 0,
  "metadata": {
    "colab": {
      "private_outputs": true,
      "provenance": []
    },
    "kernelspec": {
      "name": "python3",
      "display_name": "Python 3"
    },
    "language_info": {
      "name": "python"
    }
  },
  "cells": [
    {
      "cell_type": "code",
      "execution_count": null,
      "metadata": {
        "id": "kpXbZXyePvvj"
      },
      "outputs": [],
      "source": [
        "# supervised machine learning Algorithms\n",
        "#classification also use ligression\n",
        "#[cat,dog]classification and digit classifiaction\n",
        "# high dimensional space [Having a N dimensional data]\n",
        "#Multydimensional data\n",
        "# work as nonlinear data and concept of kernal use and using a subset a datatype\n",
        "#"
      ]
    },
    {
      "cell_type": "code",
      "source": [
        "import pandas as pd\n",
        "import numpy as np\n",
        "import seaborn as sns\n",
        "import sklearn\n"
      ],
      "metadata": {
        "id": "_y9qEomGSsPM"
      },
      "execution_count": null,
      "outputs": []
    },
    {
      "cell_type": "code",
      "source": [
        "df1=pd.read_csv(\"/content/test.zip\")\n",
        "df1"
      ],
      "metadata": {
        "id": "M1iVZPVYSsRd"
      },
      "execution_count": null,
      "outputs": []
    },
    {
      "cell_type": "code",
      "source": [
        "cancer=load_breast_cancer()"
      ],
      "metadata": {
        "id": "JuOuBipNSsT_"
      },
      "execution_count": null,
      "outputs": []
    },
    {
      "cell_type": "code",
      "source": [
        "cancer.feature_names"
      ],
      "metadata": {
        "id": "6J8AEPyISseq"
      },
      "execution_count": null,
      "outputs": []
    },
    {
      "cell_type": "code",
      "source": [
        "cancer.target_names # binnary classifiaction 0,1"
      ],
      "metadata": {
        "id": "GakifCxeSvri"
      },
      "execution_count": null,
      "outputs": []
    },
    {
      "cell_type": "code",
      "source": [
        "df=pd.DataFrame(cancer.data,columns=cancer.feature_names)\n",
        "df.head()"
      ],
      "metadata": {
        "id": "yaZj4kmaWzbD"
      },
      "execution_count": null,
      "outputs": []
    },
    {
      "cell_type": "code",
      "source": [
        "df['target']=cancer.target"
      ],
      "metadata": {
        "id": "wSDWiuL8Wzie"
      },
      "execution_count": null,
      "outputs": []
    },
    {
      "cell_type": "code",
      "source": [
        "df.head(20)"
      ],
      "metadata": {
        "id": "B-HuCMN0WzlD"
      },
      "execution_count": null,
      "outputs": []
    },
    {
      "cell_type": "code",
      "source": [
        "df[df.target==1].head(20) # searching data"
      ],
      "metadata": {
        "id": "LtMJcXz3Wznj"
      },
      "execution_count": null,
      "outputs": []
    },
    {
      "cell_type": "code",
      "source": [
        "df['cancer class']=df.target.apply(lambda x:cancer.target_names[x])"
      ],
      "metadata": {
        "id": "fmXeR3KfWzqQ"
      },
      "execution_count": null,
      "outputs": []
    },
    {
      "cell_type": "code",
      "source": [
        "df.head(20)"
      ],
      "metadata": {
        "id": "x-XGC5p2Wzv8"
      },
      "execution_count": null,
      "outputs": []
    },
    {
      "cell_type": "code",
      "source": [
        "df[50:55]"
      ],
      "metadata": {
        "id": "frr9-GIWSvzJ"
      },
      "execution_count": null,
      "outputs": []
    },
    {
      "cell_type": "code",
      "source": [
        "df0=df[:50]# creating the subset of dataset\n",
        "df1=df[50:100]\n",
        "df2=df[100:]"
      ],
      "metadata": {
        "id": "f9gPLqVPSv6g"
      },
      "execution_count": null,
      "outputs": []
    },
    {
      "cell_type": "code",
      "source": [
        "Y=df.target\n",
        "Y"
      ],
      "metadata": {
        "id": "8eSLpHKcSwDv"
      },
      "execution_count": null,
      "outputs": []
    },
    {
      "cell_type": "code",
      "source": [
        "import matplotlib.pyplot as plt\n",
        "plt.xlabel('mean radius')\n",
        "plt.ylabel('mean texture')\n",
        "plt.scatter(df0['mean radius'],df0['mean texture'],color='red',marker='+') # class 0 define malignant data\n",
        "plt.scatter(df1['mean radius'],df1['mean texture'],color='green',marker='*')# class 1 bening\n",
        "plt.show()"
      ],
      "metadata": {
        "id": "zVjhm2Pqabjf"
      },
      "execution_count": null,
      "outputs": []
    },
    {
      "cell_type": "code",
      "source": [
        "from sklearn.model_selection import train_test_split\n",
        "X=df.drop(['target','cancer class'],axis='columns')\n",
        "Y=df.target"
      ],
      "metadata": {
        "id": "J1K8AAU6abmD"
      },
      "execution_count": null,
      "outputs": []
    },
    {
      "cell_type": "code",
      "source": [
        "x_train,x_test,y_train,y_test=train_test_split(X,Y,test_size=0.25,random_state=5)"
      ],
      "metadata": {
        "id": "9Q2V5-ckabo6"
      },
      "execution_count": null,
      "outputs": []
    },
    {
      "cell_type": "code",
      "source": [
        "len(x_train)"
      ],
      "metadata": {
        "id": "Fiu6bWaFab1u"
      },
      "execution_count": null,
      "outputs": []
    },
    {
      "cell_type": "code",
      "source": [
        "len(x_test)"
      ],
      "metadata": {
        "id": "E44vW28lab6K"
      },
      "execution_count": null,
      "outputs": []
    },
    {
      "cell_type": "code",
      "source": [
        "from sklearn.svm import SVC\n",
        "model=SVC()"
      ],
      "metadata": {
        "id": "u-7nlzYnc3Ci"
      },
      "execution_count": null,
      "outputs": []
    },
    {
      "cell_type": "code",
      "source": [
        "model.fit(x_train,y_train)"
      ],
      "metadata": {
        "id": "bRGRu8yKeivq"
      },
      "execution_count": null,
      "outputs": []
    },
    {
      "cell_type": "code",
      "source": [
        "model.score(x_test,y_test)"
      ],
      "metadata": {
        "id": "KiWVyIwieot3"
      },
      "execution_count": null,
      "outputs": []
    },
    {
      "cell_type": "code",
      "source": [
        "model.score(x_train,y_train)"
      ],
      "metadata": {
        "id": "V6ll4b9Teo1n"
      },
      "execution_count": null,
      "outputs": []
    },
    {
      "cell_type": "code",
      "source": [
        "pred=model.predict(x_test)"
      ],
      "metadata": {
        "id": "kbi7HzAGeo4B"
      },
      "execution_count": null,
      "outputs": []
    },
    {
      "cell_type": "code",
      "source": [
        "from sklearn.metrics import confusion_matrix\n",
        "cm=np.array(confusion_matrix(y_test,pred))\n",
        "cm"
      ],
      "metadata": {
        "id": "9YP2U8qveo6p"
      },
      "execution_count": null,
      "outputs": []
    },
    {
      "cell_type": "code",
      "source": [
        "# hyperparameter tuning"
      ],
      "metadata": {
        "id": "4ZTb95JtfOBi"
      },
      "execution_count": null,
      "outputs": []
    },
    {
      "cell_type": "code",
      "source": [
        "model_tune=SVC(C=2)"
      ],
      "metadata": {
        "id": "wjMzgEkcfXHt"
      },
      "execution_count": null,
      "outputs": []
    },
    {
      "cell_type": "code",
      "source": [
        "model_tune.fit(x_train,y_train)\n",
        "model_tune.score(x_test,y_test)"
      ],
      "metadata": {
        "id": "rxZi6UipfXPd"
      },
      "execution_count": null,
      "outputs": []
    },
    {
      "cell_type": "code",
      "source": [
        "# hyper parametre tuning"
      ],
      "metadata": {
        "id": "usw_SEO0fXSE"
      },
      "execution_count": null,
      "outputs": []
    },
    {
      "cell_type": "code",
      "source": [],
      "metadata": {
        "id": "zb7mj1RffXU2"
      },
      "execution_count": null,
      "outputs": []
    },
    {
      "cell_type": "code",
      "source": [],
      "metadata": {
        "id": "MjDEwLsCfXeZ"
      },
      "execution_count": null,
      "outputs": []
    },
    {
      "cell_type": "code",
      "source": [],
      "metadata": {
        "id": "zbZHh6H_grpU"
      },
      "execution_count": null,
      "outputs": []
    },
    {
      "cell_type": "code",
      "source": [],
      "metadata": {
        "id": "TS9AJzK4grv_"
      },
      "execution_count": null,
      "outputs": []
    },
    {
      "cell_type": "code",
      "source": [],
      "metadata": {
        "id": "LTVmit-agr0b"
      },
      "execution_count": null,
      "outputs": []
    },
    {
      "cell_type": "code",
      "source": [],
      "metadata": {
        "id": "xLpkAv4bgr42"
      },
      "execution_count": null,
      "outputs": []
    }
  ]
}